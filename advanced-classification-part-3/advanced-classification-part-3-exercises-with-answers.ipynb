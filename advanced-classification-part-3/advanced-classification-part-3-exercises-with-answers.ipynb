{
 "cells": [
  {
   "cell_type": "markdown",
   "metadata": {},
   "source": [
    "# Advanced Classification Part 3 - Exercises with Results"
   ]
  },
  {
   "cell_type": "markdown",
   "metadata": {},
   "source": [
    "## Exercise 1"
   ]
  },
  {
   "cell_type": "markdown",
   "metadata": {},
   "source": [
    "#### Task 1 \n",
    "##### Load libraries that are used in this module.\n",
    "\n",
    "#### Result:"
   ]
  },
  {
   "cell_type": "code",
   "execution_count": 1,
   "metadata": {},
   "outputs": [],
   "source": [
    "# Helper packages.\n",
    "import os\n",
    "import pickle\n",
    "import pandas as pd\n",
    "import matplotlib.pyplot as plt                     \n",
    "import numpy as np\n",
    "import math\n",
    "\n",
    "# Scikit-learn packages for building models and model evaluation.\n",
    "from sklearn.model_selection import train_test_split\n",
    "from sklearn.ensemble import RandomForestClassifier\n",
    "from sklearn.ensemble import GradientBoostingClassifier\n",
    "from sklearn.model_selection import RandomizedSearchCV\n",
    "from sklearn import metrics\n",
    "from pathlib import Path"
   ]
  },
  {
   "cell_type": "markdown",
   "metadata": {},
   "source": [
    "#### Task 2\n",
    "##### Define the directory settings.\n",
    "\n",
    "#### Result:"
   ]
  },
  {
   "cell_type": "code",
   "execution_count": 2,
   "metadata": {},
   "outputs": [
    {
     "name": "stdout",
     "output_type": "stream",
     "text": [
      "/Users/aashika/Desktop/skillsoft-advanced-classification-2022\n",
      "/Users/aashika/Desktop/skillsoft-advanced-classification-2022/data\n"
     ]
    }
   ],
   "source": [
    "# Set 'main_dir' to location of the project folder\n",
    "home_dir = Path(\".\").resolve()\n",
    "main_dir = home_dir.parent.parent\n",
    "print(main_dir)\n",
    "data_dir = str(main_dir) + \"/data\"\n",
    "print(data_dir)"
   ]
  },
  {
   "cell_type": "markdown",
   "metadata": {},
   "source": [
    "#### Task 3\n",
    "##### Load the clean pickled dataset `bank_clean.sav` and save as `bank`.\n",
    "##### Print the head of the data.\n",
    "\n",
    "#### Result:"
   ]
  },
  {
   "cell_type": "code",
   "execution_count": 3,
   "metadata": {},
   "outputs": [],
   "source": [
    "bank = pickle.load(open(str(data_dir)+\"/bank_clean.sav\",\"rb\")) "
   ]
  },
  {
   "cell_type": "code",
   "execution_count": 4,
   "metadata": {},
   "outputs": [
    {
     "name": "stdout",
     "output_type": "stream",
     "text": [
      "       age  campaign  emp_var_rate  cons_price_idx  cons_conf_idx  euribor3m  \\\n",
      "35577   32         1          -1.8          92.893          -46.2      1.244   \n",
      "13950   33         2           1.4          93.918          -42.7      4.963   \n",
      "29451   25         5          -1.8          93.075          -47.1      1.405   \n",
      "32295   34         1          -1.8          92.893          -46.2      1.313   \n",
      "27477   53         7          -0.1          93.200          -42.0      4.021   \n",
      "\n",
      "       nr_employed  y  \n",
      "35577         5099  0  \n",
      "13950         5228  0  \n",
      "29451         5099  1  \n",
      "32295         5099  0  \n",
      "27477         5196  0  \n"
     ]
    }
   ],
   "source": [
    "print(bank.head())"
   ]
  },
  {
   "cell_type": "markdown",
   "metadata": {},
   "source": [
    "#### Task 4\n",
    "##### Select the predictors by dropping variable `y` and save the result to a dataframe `X_ex`.\n",
    "##### Save the target variable `y` column to `y_ex` variable.\n",
    "##### Set seed as 1.\n",
    "##### Split the data into training and test sets with 70:30 ratio and save respective variables to `X_train_ex`, `X_test_ex`, `y_train_ex`, `y_test_ex`.\n",
    "\n",
    "#### Result:"
   ]
  },
  {
   "cell_type": "code",
   "execution_count": 5,
   "metadata": {},
   "outputs": [],
   "source": [
    "# Select the predictors and target.\n",
    "X_ex = bank.drop(['y'], axis = 1)\n",
    "y_ex = np.array(bank['y'])\n",
    "\n",
    "# Set the seed to 1.\n",
    "np.random.seed(1)\n",
    "\n",
    "# Split into training and test sets.\n",
    "X_train_ex, X_test_ex, y_train_ex, y_test_ex = train_test_split(X_ex, y_ex, test_size = 0.3)"
   ]
  },
  {
   "cell_type": "markdown",
   "metadata": {},
   "source": [
    "#### Task 5\n",
    "##### Create a vanilla random forest classifier and save it to `forest_ex` variable.\n",
    "##### Fit the classifier to our training data.\n",
    "##### Predict on test set and save as `forest_y_predict_ex`\n",
    "\n",
    "#### Result:"
   ]
  },
  {
   "cell_type": "code",
   "execution_count": 6,
   "metadata": {},
   "outputs": [],
   "source": [
    "forest_ex = RandomForestClassifier()"
   ]
  },
  {
   "cell_type": "code",
   "execution_count": 7,
   "metadata": {},
   "outputs": [
    {
     "data": {
      "text/plain": [
       "RandomForestClassifier()"
      ]
     },
     "execution_count": 7,
     "metadata": {},
     "output_type": "execute_result"
    }
   ],
   "source": [
    "forest_ex.fit(X_train_ex, y_train_ex)"
   ]
  },
  {
   "cell_type": "code",
   "execution_count": 8,
   "metadata": {},
   "outputs": [
    {
     "name": "stdout",
     "output_type": "stream",
     "text": [
      "[1 1 0 1 0]\n"
     ]
    }
   ],
   "source": [
    "# Predict on test data.\n",
    "forest_y_predict_ex = forest_ex.predict(X_test_ex)\n",
    "\n",
    "# Look at the first few predictions.\n",
    "print(forest_y_predict_ex[0:5, ])"
   ]
  },
  {
   "cell_type": "markdown",
   "metadata": {},
   "source": [
    "#### Task 6\n",
    "##### Predict again on test set but this time obtain probabilities.\n",
    "##### Save as `forest_y_predict_prob_ex`.\n",
    "\n",
    "#### Result:"
   ]
  },
  {
   "cell_type": "code",
   "execution_count": 9,
   "metadata": {},
   "outputs": [
    {
     "name": "stdout",
     "output_type": "stream",
     "text": [
      "[[0.91666667 0.08333333]\n",
      " [0.85       0.15      ]\n",
      " [0.99       0.01      ]\n",
      " ...\n",
      " [0.98       0.02      ]\n",
      " [0.36       0.64      ]\n",
      " [0.89       0.11      ]]\n"
     ]
    }
   ],
   "source": [
    "#Predict on test, but instead of labels \n",
    "# we will get probabilities for class 0 and 1.\n",
    "forest_y_predict_prob_ex = forest_ex.predict_proba(X_test_ex) \n",
    "print(forest_y_predict_prob_ex[5:])"
   ]
  },
  {
   "cell_type": "markdown",
   "metadata": {},
   "source": [
    "#### Task 7\n",
    "##### Compute the following metrics and save them as given below: \n",
    "* Accuracy `forest_accuracy_ex`\n",
    "* Precision `forest_precision_ex`\n",
    "* Recall `forest_recall_ex`\n",
    "* Precision-recall plot `rf_prec_recall_ex`\n",
    "* F1 score `forest_f1_ex `\n",
    "* Fbeta `forest_fbeta_ex`\n",
    "* Log loss `forest_log_loss_ex`\n",
    "* ROC plot `rf_roc_ex`\n",
    "* AUC `forest_auc_ex`\n",
    "\n",
    "#### Result:\n"
   ]
  },
  {
   "cell_type": "code",
   "execution_count": 10,
   "metadata": {},
   "outputs": [
    {
     "name": "stdout",
     "output_type": "stream",
     "text": [
      "0.8716666666666667\n"
     ]
    }
   ],
   "source": [
    "forest_accuracy_ex = metrics.accuracy_score(y_test_ex, \n",
    "                                            forest_y_predict_ex)\n",
    "print(forest_accuracy_ex)"
   ]
  },
  {
   "cell_type": "code",
   "execution_count": 11,
   "metadata": {},
   "outputs": [
    {
     "name": "stdout",
     "output_type": "stream",
     "text": [
      "0.4411764705882353\n"
     ]
    }
   ],
   "source": [
    "forest_precision_ex = metrics.precision_score(y_test_ex, \n",
    "                                              forest_y_predict_ex)\n",
    "print(forest_precision_ex)"
   ]
  },
  {
   "cell_type": "code",
   "execution_count": 12,
   "metadata": {},
   "outputs": [
    {
     "name": "stdout",
     "output_type": "stream",
     "text": [
      "0.2054794520547945\n"
     ]
    }
   ],
   "source": [
    "forest_recall_ex = metrics.recall_score(y_test_ex, \n",
    "                                        forest_y_predict_ex)\n",
    "print(forest_recall_ex)"
   ]
  },
  {
   "cell_type": "code",
   "execution_count": 13,
   "metadata": {},
   "outputs": [
    {
     "data": {
      "image/png": "[encoded data removed]",
      "text/plain": [
       "<Figure size 640x480 with 1 Axes>"
      ]
     },
     "metadata": {},
     "output_type": "display_data"
    }
   ],
   "source": [
    "rf_prec_recall_ex = metrics.plot_precision_recall_curve(forest_ex, \n",
    "                                                        X_test_ex, y_test_ex, \n",
    "                                                        name = \"RF\")\n",
    "plt.show()"
   ]
  },
  {
   "cell_type": "code",
   "execution_count": 14,
   "metadata": {},
   "outputs": [
    {
     "name": "stdout",
     "output_type": "stream",
     "text": [
      "0.2803738317757009\n"
     ]
    }
   ],
   "source": [
    "forest_f1_ex = metrics.f1_score(y_test_ex, \n",
    "                                forest_y_predict_ex)\n",
    "print(forest_f1_ex)"
   ]
  },
  {
   "cell_type": "code",
   "execution_count": 15,
   "metadata": {},
   "outputs": [
    {
     "name": "stdout",
     "output_type": "stream",
     "text": [
      "0.3588516746411483\n"
     ]
    }
   ],
   "source": [
    "forest_fbeta_ex = metrics.fbeta_score(y_test_ex, \n",
    "                                      forest_y_predict_ex, \n",
    "                                      beta = 0.5)\n",
    "print(forest_fbeta_ex)"
   ]
  },
  {
   "cell_type": "code",
   "execution_count": 16,
   "metadata": {},
   "outputs": [
    {
     "name": "stdout",
     "output_type": "stream",
     "text": [
      "Log loss:  1.0075494584661249\n"
     ]
    }
   ],
   "source": [
    "# The second argument is an array of predicted probabilities, not labels!\n",
    "forest_log_loss_ex = metrics.log_loss(y_test_ex, forest_y_predict_prob_ex[:, 1], eps=1e-15)\n",
    "print (\"Log loss: \", forest_log_loss_ex)"
   ]
  },
  {
   "cell_type": "code",
   "execution_count": 17,
   "metadata": {},
   "outputs": [
    {
     "data": {
      "image/png": "[encoded data removed]",
      "text/plain": [
       "<Figure size 640x480 with 1 Axes>"
      ]
     },
     "metadata": {},
     "output_type": "display_data"
    }
   ],
   "source": [
    "rf_roc_ex = metrics.plot_roc_curve(forest_ex,\n",
    "                                   X_test_ex,\n",
    "                                   y_test_ex,\n",
    "                                   name = \"RF\")\n",
    "plt.show()"
   ]
  },
  {
   "cell_type": "code",
   "execution_count": 18,
   "metadata": {},
   "outputs": [
    {
     "name": "stdout",
     "output_type": "stream",
     "text": [
      "AUC:  0.7337734917210366\n"
     ]
    }
   ],
   "source": [
    "# Where y_pred are probabilities and y_true are binary class labels\n",
    "forest_auc_ex = metrics.roc_auc_score(y_test_ex, forest_y_predict_prob_ex[:, 1])\n",
    "print(\"AUC: \", forest_auc_ex)"
   ]
  },
  {
   "cell_type": "markdown",
   "metadata": {},
   "source": [
    "#### Task 8\n",
    "##### We've summarized all the metrics into the function `get_performance_scores()` below. \n",
    "##### Compute the metrics of our random forest model and print results.\n",
    "##### Save as `metrics_forest_ex`."
   ]
  },
  {
   "cell_type": "code",
   "execution_count": 19,
   "metadata": {},
   "outputs": [],
   "source": [
    "def get_performance_scores(y_test, y_predict, y_predict_prob, eps=1e-15, beta=0.5):\n",
    "\n",
    "    from sklearn import metrics\n",
    "\n",
    "    # Scores keys.\n",
    "    metric_keys = [\"accuracy\", \"precision\", \"recall\", \"f1\", \"fbeta\", \"log_loss\", \"AUC\"]\n",
    "\n",
    "    # Score values.\n",
    "    metric_values = [None]*len(metric_keys)\n",
    "\n",
    "    metric_values[0] = metrics.accuracy_score(y_test, y_predict)\n",
    "    metric_values[1] = metrics.precision_score(y_test, y_predict)\n",
    "    metric_values[2] = metrics.recall_score(y_test, y_predict)\n",
    "    metric_values[3] = metrics.f1_score(y_test, y_predict)\n",
    "    metric_values[4] = metrics.fbeta_score(y_test, y_predict, beta=beta)\n",
    "    metric_values[5] = metrics.log_loss(y_test, y_predict_prob[:, 1], eps=eps)\n",
    "    metric_values[6] = metrics.roc_auc_score(y_test, y_predict_prob[:, 1])\n",
    "\n",
    "    perf_metrics = dict(zip(metric_keys, metric_values))\n",
    "\n",
    "    return(perf_metrics)"
   ]
  },
  {
   "cell_type": "markdown",
   "metadata": {},
   "source": [
    "#### Result:"
   ]
  },
  {
   "cell_type": "code",
   "execution_count": 20,
   "metadata": {},
   "outputs": [
    {
     "name": "stdout",
     "output_type": "stream",
     "text": [
      "{'RF': {'accuracy': 0.8716666666666667, 'precision': 0.4411764705882353, 'recall': 0.2054794520547945, 'f1': 0.2803738317757009, 'fbeta': 0.3588516746411483, 'log_loss': 1.0075494584661249, 'AUC': 0.7337734917210366}}\n"
     ]
    }
   ],
   "source": [
    "forest_scores_ex = get_performance_scores(y_test_ex, forest_y_predict_ex, forest_y_predict_prob_ex)\n",
    "\n",
    "metrics_forest_ex = {\"RF\": forest_scores_ex}\n",
    "print(metrics_forest_ex)"
   ]
  },
  {
   "cell_type": "markdown",
   "metadata": {},
   "source": [
    "#### Bonus Task  \n",
    "##### Print the overall accuracy using the log loss we computed earlier `forest_log_loss_ex`.\n",
    "##### Define `prob_increments` as we did in class.\n",
    "##### Calculate `losses_ex` using `y_test_ex` and plot the loss.\n",
    "#### Result:"
   ]
  },
  {
   "cell_type": "code",
   "execution_count": 21,
   "metadata": {},
   "outputs": [
    {
     "name": "stdout",
     "output_type": "stream",
     "text": [
      "Overall accuracy:  0.3651126077977332\n"
     ]
    }
   ],
   "source": [
    "print(\"Overall accuracy: \", math.exp(-forest_log_loss_ex))"
   ]
  },
  {
   "cell_type": "code",
   "execution_count": 22,
   "metadata": {},
   "outputs": [],
   "source": [
    "# Probability values: 0 to 1 in 0.01 increments.\n",
    "prob_increments = [x*0.01 for x in range(0, 101)]"
   ]
  },
  {
   "cell_type": "code",
   "execution_count": 23,
   "metadata": {},
   "outputs": [
    {
     "data": {
      "image/png": "[encoded data removed]",
      "text/plain": [
       "<Figure size 640x480 with 1 Axes>"
      ]
     },
     "metadata": {},
     "output_type": "display_data"
    }
   ],
   "source": [
    "# Loss for predicting different fixed probability values.\n",
    "losses_ex = [metrics.log_loss(y_test_ex, [y for x in range(len(y_test_ex))]) for y in prob_increments]\n",
    "\n",
    "# Plot predictions vs loss.\n",
    "plt.plot(prob_increments, losses_ex)\n",
    "plt.show()"
   ]
  },
  {
   "cell_type": "markdown",
   "metadata": {},
   "source": [
    "## Exercise 2"
   ]
  },
  {
   "cell_type": "markdown",
   "metadata": {},
   "source": [
    "#### Task 1 \n",
    "##### Take a look at original parameters of our random forest model.\n",
    "##### Create a grid of parameter ranges as we did in class\n",
    "##### Call the grid `random_grid_ex`.\n",
    "\n",
    "#### Result"
   ]
  },
  {
   "cell_type": "code",
   "execution_count": 24,
   "metadata": {},
   "outputs": [
    {
     "data": {
      "text/plain": [
       "<bound method BaseEstimator.get_params of RandomForestClassifier()>"
      ]
     },
     "execution_count": 24,
     "metadata": {},
     "output_type": "execute_result"
    }
   ],
   "source": [
    "forest_ex.get_params"
   ]
  },
  {
   "cell_type": "code",
   "execution_count": 25,
   "metadata": {},
   "outputs": [
    {
     "name": "stdout",
     "output_type": "stream",
     "text": [
      "{'n_estimators': [200, 400, 600, 800, 1000, 1200, 1400, 1600, 1800, 2000], 'max_features': ['auto', 'sqrt'], 'max_depth': [10, 20, 30, 40, 50, 60, 70, 80, 90, 100, 110, None], 'min_samples_split': [2, 5, 10], 'min_samples_leaf': [1, 2, 4]}\n"
     ]
    }
   ],
   "source": [
    "# Number of trees in random forest.\n",
    "n_estimators = [int(x) for x in np.linspace(start = 200, stop = 2000, num = 10)]\n",
    "\n",
    "# Number of features to consider at every split.\n",
    "max_features = ['auto', 'sqrt']\n",
    "\n",
    "# Maximum number of levels in tree.\n",
    "max_depth = [int(x) for x in np.linspace(10, 110, num = 11)]\n",
    "max_depth.append(None)\n",
    "\n",
    "# Minimum number of samples required to split a node.\n",
    "min_samples_split = [2, 5, 10]\n",
    "\n",
    "# Minimum number of samples required at each leaf node.\n",
    "min_samples_leaf = [1, 2, 4]\n",
    "\n",
    "\n",
    "# Create the random grid.\n",
    "random_grid_ex = {'n_estimators': n_estimators,\n",
    "               'max_features': max_features,\n",
    "               'max_depth': max_depth,\n",
    "               'min_samples_split': min_samples_split,\n",
    "               'min_samples_leaf': min_samples_leaf}\n",
    "print(random_grid_ex)"
   ]
  },
  {
   "cell_type": "markdown",
   "metadata": {},
   "source": [
    "#### Task 2\n",
    "##### Instantiate the model, call it `rf_random_ex`.\n",
    "##### Use 3-fold cross-validation with 100 different combinations.\n",
    "##### Fit the model with `X_train_ex` and ` y_train_ex` and take a look at the `best_params_`.\n",
    "\n",
    "#### Result:"
   ]
  },
  {
   "cell_type": "code",
   "execution_count": 26,
   "metadata": {},
   "outputs": [
    {
     "data": {
      "text/plain": [
       "RandomizedSearchCV(cv=3, estimator=RandomForestClassifier(), n_iter=100,\n",
       "                   n_jobs=-1,\n",
       "                   param_distributions={'max_depth': [10, 20, 30, 40, 50, 60,\n",
       "                                                      70, 80, 90, 100, 110,\n",
       "                                                      None],\n",
       "                                        'max_features': ['auto', 'sqrt'],\n",
       "                                        'min_samples_leaf': [1, 2, 4],\n",
       "                                        'min_samples_split': [2, 5, 10],\n",
       "                                        'n_estimators': [200, 400, 600, 800,\n",
       "                                                         1000, 1200, 1400, 1600,\n",
       "                                                         1800, 2000]},\n",
       "                   random_state=1)"
      ]
     },
     "execution_count": 26,
     "metadata": {},
     "output_type": "execute_result"
    }
   ],
   "source": [
    "# Instantiate the random search.\n",
    "rf_random_ex = RandomizedSearchCV(estimator = forest_ex, \n",
    "                                  param_distributions = random_grid_ex, \n",
    "                                  n_iter = 100, \n",
    "                                  cv = 3, \n",
    "                                  verbose=0, \n",
    "                                  random_state= 1, \n",
    "                                  n_jobs = -1)\n",
    "# Fit the random search model.\n",
    "rf_random_ex.fit(X_train_ex, y_train_ex)"
   ]
  },
  {
   "cell_type": "code",
   "execution_count": 27,
   "metadata": {},
   "outputs": [
    {
     "data": {
      "text/plain": [
       "{'n_estimators': 200,\n",
       " 'min_samples_split': 10,\n",
       " 'min_samples_leaf': 2,\n",
       " 'max_features': 'auto',\n",
       " 'max_depth': 80}"
      ]
     },
     "execution_count": 27,
     "metadata": {},
     "output_type": "execute_result"
    }
   ],
   "source": [
    "rf_random_ex.best_params_"
   ]
  },
  {
   "cell_type": "markdown",
   "metadata": {},
   "source": [
    "#### Task 3\n",
    "##### Now use the optimized parameters to implement the optimized model on `X_train_ex`.\n",
    "##### Name it `optimized_forest_ex`.\n",
    "\n",
    "\n",
    "#### Result:"
   ]
  },
  {
   "cell_type": "code",
   "execution_count": 28,
   "metadata": {},
   "outputs": [],
   "source": [
    "optimized_forest_ex = RandomForestClassifier(**rf_random_ex.best_params_)"
   ]
  },
  {
   "cell_type": "code",
   "execution_count": 29,
   "metadata": {},
   "outputs": [
    {
     "data": {
      "text/plain": [
       "RandomForestClassifier(max_depth=80, min_samples_leaf=2, min_samples_split=10,\n",
       "                       n_estimators=200)"
      ]
     },
     "execution_count": 29,
     "metadata": {},
     "output_type": "execute_result"
    }
   ],
   "source": [
    "optimized_forest_ex.fit(X_train_ex, y_train_ex)"
   ]
  },
  {
   "cell_type": "markdown",
   "metadata": {},
   "source": [
    "#### Task 4\n",
    "##### Predict the predictions and their probabilities and save as `optimized_forest_y_predict_ex` and `optimized_forest_y_predict_proba_ex` respectively.\n",
    "##### Find the performance scores of the optimized forest using function `get_performance_scores()` which we defined above.\n",
    "\n",
    "\n",
    "#### Result:"
   ]
  },
  {
   "cell_type": "code",
   "execution_count": 30,
   "metadata": {},
   "outputs": [],
   "source": [
    "optimized_forest_y_predict_ex = optimized_forest_ex.predict(X_test_ex)\n",
    "optimized_forest_y_predict_proba_ex = optimized_forest_ex.predict_proba(X_test_ex)"
   ]
  },
  {
   "cell_type": "code",
   "execution_count": 31,
   "metadata": {},
   "outputs": [
    {
     "name": "stdout",
     "output_type": "stream",
     "text": [
      "{'accuracy': 0.8816666666666667, 'precision': 0.55, 'recall': 0.1506849315068493, 'f1': 0.23655913978494625, 'fbeta': 0.35947712418300654, 'log_loss': 0.3292953302795677, 'AUC': 0.7712042837461984}\n"
     ]
    }
   ],
   "source": [
    "optimized_forest_scores_ex = get_performance_scores(y_test_ex, \n",
    "                                                    optimized_forest_y_predict_ex,\n",
    "                                                    optimized_forest_y_predict_proba_ex)\n",
    "\n",
    "print(optimized_forest_scores_ex)"
   ]
  },
  {
   "cell_type": "markdown",
   "metadata": {},
   "source": [
    "#### Task 5\n",
    "##### Save the precision-recall curve in `opt_rf_prec_recall_ex`. Set parameters as shown in class.\n",
    "##### Plot the curves comparing the original model curve `rf_prec_recall_ex` with the optimized one.\n",
    "\n",
    "#### Result:"
   ]
  },
  {
   "cell_type": "code",
   "execution_count": 32,
   "metadata": {},
   "outputs": [
    {
     "data": {
      "image/png": "[encoded data removed]",
      "text/plain": [
       "<Figure size 640x480 with 1 Axes>"
      ]
     },
     "metadata": {},
     "output_type": "display_data"
    }
   ],
   "source": [
    "# NOTE: explain why plt.gca is\n",
    "ax = plt.gca()\n",
    "\n",
    "opt_rf_prec_recall_ex = metrics.plot_precision_recall_curve(optimized_forest_ex, \n",
    "                                                            X_test_ex, \n",
    "                                                            y_test_ex,\n",
    "                                                            ax = ax,\n",
    "                                                            name = \"Optimized RF\")\n",
    "\n",
    "\n",
    "rf_prec_recall_ex.plot(ax = ax, name = \"RF\")\n",
    "plt.show()"
   ]
  },
  {
   "cell_type": "markdown",
   "metadata": {},
   "source": [
    "#### Task 6\n",
    "##### Similar to above, plot the ROC curve of original model vs the optimized one. \n",
    "##### Save the optimized precision-recall curve as `opt_rf_roc_ex`.\n",
    "#### Result:\n"
   ]
  },
  {
   "cell_type": "code",
   "execution_count": 33,
   "metadata": {},
   "outputs": [
    {
     "data": {
      "image/png": "[encoded data removed]",
      "text/plain": [
       "<Figure size 640x480 with 1 Axes>"
      ]
     },
     "metadata": {},
     "output_type": "display_data"
    }
   ],
   "source": [
    "ax = plt.gca()\n",
    "opt_rf_roc_ex = metrics.plot_roc_curve(optimized_forest_ex,\n",
    "                       X_test_ex,\n",
    "                       y_test_ex,\n",
    "                       name = \"Optimized RF\",\n",
    "                       ax = ax)\n",
    "\n",
    "rf_roc_ex.plot(ax = ax, name = \"RF\")\n",
    "plt.show()"
   ]
  },
  {
   "cell_type": "markdown",
   "metadata": {},
   "source": [
    "#### Task 7\n",
    "##### Update `metrics_forest_ex` with the optimized random forest scores. Print results.\n",
    "#### Result:"
   ]
  },
  {
   "cell_type": "code",
   "execution_count": 34,
   "metadata": {},
   "outputs": [
    {
     "name": "stdout",
     "output_type": "stream",
     "text": [
      "{'RF': {'accuracy': 0.8716666666666667, 'precision': 0.4411764705882353, 'recall': 0.2054794520547945, 'f1': 0.2803738317757009, 'fbeta': 0.3588516746411483, 'log_loss': 1.0075494584661249, 'AUC': 0.7337734917210366}, 'Optimized RF': {'accuracy': 0.8816666666666667, 'precision': 0.55, 'recall': 0.1506849315068493, 'f1': 0.23655913978494625, 'fbeta': 0.35947712418300654, 'log_loss': 0.3292953302795677, 'AUC': 0.7712042837461984}}\n"
     ]
    }
   ],
   "source": [
    "metrics_forest_ex.update({\"Optimized RF\": optimized_forest_scores_ex})\n",
    "print(metrics_forest_ex)"
   ]
  },
  {
   "cell_type": "code",
   "execution_count": null,
   "metadata": {},
   "outputs": [],
   "source": []
  }
 ],
 "metadata": {
  "kernelspec": {
   "display_name": "Python 3 (ipykernel)",
   "language": "python",
   "name": "python3"
  },
  "language_info": {
   "codemirror_mode": {
    "name": "ipython",
    "version": 3
   },
   "file_extension": ".py",
   "mimetype": "text/x-python",
   "name": "python",
   "nbconvert_exporter": "python",
   "pygments_lexer": "ipython3",
   "version": "3.7.10"
  },
  "toc": {
   "base_numbering": 1,
   "nav_menu": {},
   "number_sections": true,
   "sideBar": true,
   "skip_h1_title": false,
   "title_cell": "Table of Contents",
   "title_sidebar": "Contents",
   "toc_cell": false,
   "toc_position": {},
   "toc_section_display": true,
   "toc_window_display": false
  }
 },
 "nbformat": 4,
 "nbformat_minor": 4
}
