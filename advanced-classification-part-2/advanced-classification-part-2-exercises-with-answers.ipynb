{
 "cells": [
  {
   "cell_type": "markdown",
   "metadata": {},
   "source": [
    "# Advanced Classification - Part 2 - Exercises with Results"
   ]
  },
  {
   "cell_type": "markdown",
   "metadata": {},
   "source": [
    "## Exercise 1"
   ]
  },
  {
   "cell_type": "markdown",
   "metadata": {},
   "source": [
    "#### Task 1 \n",
    "##### Load libraries that are used in this module.\n",
    "\n",
    "#### Result:"
   ]
  },
  {
   "cell_type": "code",
   "execution_count": 1,
   "metadata": {},
   "outputs": [],
   "source": [
    "import os\n",
    "import pickle\n",
    "import matplotlib.pyplot as plt                     \n",
    "import numpy as np                                    \n",
    "import pandas as pd\n",
    "from textwrap import wrap\n",
    "from sklearn.model_selection import train_test_split\n",
    "from sklearn import metrics\n",
    "\n",
    "from sklearn.ensemble import RandomForestClassifier\n",
    "from sklearn.metrics import accuracy_score\n",
    "from sklearn.ensemble import GradientBoostingClassifier\n",
    "from pathlib import Path"
   ]
  },
  {
   "cell_type": "markdown",
   "metadata": {},
   "source": [
    "#### Task 2\n",
    "\n",
    "##### Define the directory settings.\n"
   ]
  },
  {
   "cell_type": "markdown",
   "metadata": {},
   "source": [
    "#### Result:"
   ]
  },
  {
   "cell_type": "code",
   "execution_count": 2,
   "metadata": {},
   "outputs": [
    {
     "name": "stdout",
     "output_type": "stream",
     "text": [
      "/Users/aashika/Desktop/skillsoft-advanced-classification-2022\n",
      "/Users/aashika/Desktop/skillsoft-advanced-classification-2022/data\n"
     ]
    }
   ],
   "source": [
    "# Set 'main_dir' to location of the project folder\n",
    "home_dir = Path(\".\").resolve()\n",
    "main_dir = home_dir.parent.parent\n",
    "print(main_dir)\n",
    "data_dir = str(main_dir) + \"/data\"\n",
    "print(data_dir)"
   ]
  },
  {
   "cell_type": "markdown",
   "metadata": {},
   "source": [
    "#### Task 3\n",
    "##### Load the clean pickled dataset `bank_clean.sav` and save as `bank`.\n",
    "##### Print the head of the data.\n",
    "\n",
    "#### Result:"
   ]
  },
  {
   "cell_type": "code",
   "execution_count": 3,
   "metadata": {},
   "outputs": [],
   "source": [
    "bank = pickle.load(open(str(data_dir) + \"/bank_clean.sav\",\"rb\")) "
   ]
  },
  {
   "cell_type": "code",
   "execution_count": 4,
   "metadata": {},
   "outputs": [
    {
     "data": {
      "text/html": [
       "<div>\n",
       "<style scoped>\n",
       "    .dataframe tbody tr th:only-of-type {\n",
       "        vertical-align: middle;\n",
       "    }\n",
       "\n",
       "    .dataframe tbody tr th {\n",
       "        vertical-align: top;\n",
       "    }\n",
       "\n",
       "    .dataframe thead th {\n",
       "        text-align: right;\n",
       "    }\n",
       "</style>\n",
       "<table border=\"1\" class=\"dataframe\">\n",
       "  <thead>\n",
       "    <tr style=\"text-align: right;\">\n",
       "      <th></th>\n",
       "      <th>age</th>\n",
       "      <th>campaign</th>\n",
       "      <th>emp_var_rate</th>\n",
       "      <th>cons_price_idx</th>\n",
       "      <th>cons_conf_idx</th>\n",
       "      <th>euribor3m</th>\n",
       "      <th>nr_employed</th>\n",
       "      <th>y</th>\n",
       "    </tr>\n",
       "  </thead>\n",
       "  <tbody>\n",
       "    <tr>\n",
       "      <th>35577</th>\n",
       "      <td>32</td>\n",
       "      <td>1</td>\n",
       "      <td>-1.8</td>\n",
       "      <td>92.893</td>\n",
       "      <td>-46.2</td>\n",
       "      <td>1.244</td>\n",
       "      <td>5099</td>\n",
       "      <td>0</td>\n",
       "    </tr>\n",
       "    <tr>\n",
       "      <th>13950</th>\n",
       "      <td>33</td>\n",
       "      <td>2</td>\n",
       "      <td>1.4</td>\n",
       "      <td>93.918</td>\n",
       "      <td>-42.7</td>\n",
       "      <td>4.963</td>\n",
       "      <td>5228</td>\n",
       "      <td>0</td>\n",
       "    </tr>\n",
       "    <tr>\n",
       "      <th>29451</th>\n",
       "      <td>25</td>\n",
       "      <td>5</td>\n",
       "      <td>-1.8</td>\n",
       "      <td>93.075</td>\n",
       "      <td>-47.1</td>\n",
       "      <td>1.405</td>\n",
       "      <td>5099</td>\n",
       "      <td>1</td>\n",
       "    </tr>\n",
       "    <tr>\n",
       "      <th>32295</th>\n",
       "      <td>34</td>\n",
       "      <td>1</td>\n",
       "      <td>-1.8</td>\n",
       "      <td>92.893</td>\n",
       "      <td>-46.2</td>\n",
       "      <td>1.313</td>\n",
       "      <td>5099</td>\n",
       "      <td>0</td>\n",
       "    </tr>\n",
       "    <tr>\n",
       "      <th>27477</th>\n",
       "      <td>53</td>\n",
       "      <td>7</td>\n",
       "      <td>-0.1</td>\n",
       "      <td>93.200</td>\n",
       "      <td>-42.0</td>\n",
       "      <td>4.021</td>\n",
       "      <td>5196</td>\n",
       "      <td>0</td>\n",
       "    </tr>\n",
       "  </tbody>\n",
       "</table>\n",
       "</div>"
      ],
      "text/plain": [
       "       age  campaign  emp_var_rate  cons_price_idx  cons_conf_idx  euribor3m  \\\n",
       "35577   32         1          -1.8          92.893          -46.2      1.244   \n",
       "13950   33         2           1.4          93.918          -42.7      4.963   \n",
       "29451   25         5          -1.8          93.075          -47.1      1.405   \n",
       "32295   34         1          -1.8          92.893          -46.2      1.313   \n",
       "27477   53         7          -0.1          93.200          -42.0      4.021   \n",
       "\n",
       "       nr_employed  y  \n",
       "35577         5099  0  \n",
       "13950         5228  0  \n",
       "29451         5099  1  \n",
       "32295         5099  0  \n",
       "27477         5196  0  "
      ]
     },
     "execution_count": 4,
     "metadata": {},
     "output_type": "execute_result"
    }
   ],
   "source": [
    "bank.head()"
   ]
  },
  {
   "cell_type": "code",
   "execution_count": 5,
   "metadata": {},
   "outputs": [
    {
     "data": {
      "text/plain": [
       "Index(['age', 'campaign', 'emp_var_rate', 'cons_price_idx', 'cons_conf_idx',\n",
       "       'euribor3m', 'nr_employed', 'y'],\n",
       "      dtype='object')"
      ]
     },
     "execution_count": 5,
     "metadata": {},
     "output_type": "execute_result"
    }
   ],
   "source": [
    "bank.columns"
   ]
  },
  {
   "cell_type": "markdown",
   "metadata": {},
   "source": [
    "#### Task 4\n",
    "##### Select the predictors by dropping variable `y` and save the result to a dataframe `X_ex`.\n",
    "##### Save the target variable `y` column to `y_ex` variable.\n",
    "##### Set seed as 1.\n",
    "##### Split the data into train and test sets and save respective variables to `X_train_ex`, `X_test_ex`, `y_train_ex`, `y_test_ex`.\n",
    "\n",
    "#### Result:"
   ]
  },
  {
   "cell_type": "code",
   "execution_count": 6,
   "metadata": {},
   "outputs": [],
   "source": [
    "# Select the predictors and target.\n",
    "X_ex = bank.drop(['y'], axis = 1)\n",
    "y_ex = np.array(bank['y'])\n",
    "\n",
    "# Set the seed to 1.\n",
    "np.random.seed(1)\n",
    "\n",
    "# Split into training and test sets.\n",
    "X_train_ex, X_test_ex, y_train_ex, y_test_ex = train_test_split(X_ex, y_ex, test_size = 0.3)"
   ]
  },
  {
   "cell_type": "markdown",
   "metadata": {},
   "source": [
    "#### Task 5\n",
    "##### Create a random forest classifier and save it to `forest_ex` variable.\n",
    "##### Set random state to 1, number of estimators to 100 and `gini` as the criterion in the model.\n",
    "##### Fit the classifier to our training data.\n",
    "\n",
    "#### Result:"
   ]
  },
  {
   "cell_type": "code",
   "execution_count": 7,
   "metadata": {},
   "outputs": [],
   "source": [
    "forest_ex = RandomForestClassifier(criterion = 'gini', n_estimators = 100, \n",
    "                                random_state = 1)"
   ]
  },
  {
   "cell_type": "code",
   "execution_count": 8,
   "metadata": {},
   "outputs": [
    {
     "data": {
      "text/plain": [
       "RandomForestClassifier(random_state=1)"
      ]
     },
     "execution_count": 8,
     "metadata": {},
     "output_type": "execute_result"
    }
   ],
   "source": [
    "forest_ex.fit(X_train_ex, y_train_ex)"
   ]
  },
  {
   "cell_type": "markdown",
   "metadata": {},
   "source": [
    "#### Task 6\n",
    "##### Predict on the test data and print the first 5 predictions on the test data.\n",
    "\n",
    "#### Result:"
   ]
  },
  {
   "cell_type": "code",
   "execution_count": 9,
   "metadata": {},
   "outputs": [
    {
     "name": "stdout",
     "output_type": "stream",
     "text": [
      "[1 1 0 1 0]\n"
     ]
    }
   ],
   "source": [
    "# Predict on test data.\n",
    "y_predict_forest_ex = forest_ex.predict(X_test_ex)\n",
    "\n",
    "# Look at the first few predictions.\n",
    "print(y_predict_forest_ex[0:5, ])"
   ]
  },
  {
   "cell_type": "markdown",
   "metadata": {},
   "source": [
    "#### Task 7\n",
    "##### Print the confusion matrix and save it as `conf_matrix_forest_ex`.\n",
    "##### Print the accuracy score as `accuracy_forest_ex`.\n",
    "##### Compute the accuracy on the training data. Why is this accuracy so high?\n",
    "\n",
    "#### Result:"
   ]
  },
  {
   "cell_type": "code",
   "execution_count": 10,
   "metadata": {},
   "outputs": [
    {
     "name": "stdout",
     "output_type": "stream",
     "text": [
      "[[504  23]\n",
      " [ 58  15]]\n"
     ]
    }
   ],
   "source": [
    "# Take a look at test data confusion matrix.\n",
    "conf_matrix_forest_ex = metrics.confusion_matrix(y_test_ex, y_predict_forest_ex)\n",
    "print(conf_matrix_forest_ex)"
   ]
  },
  {
   "cell_type": "code",
   "execution_count": 11,
   "metadata": {},
   "outputs": [
    {
     "name": "stdout",
     "output_type": "stream",
     "text": [
      "Accuracy for random forest on test data:  0.865\n"
     ]
    }
   ],
   "source": [
    "accuracy_forest_ex = metrics.accuracy_score(y_test_ex, y_predict_forest_ex)\n",
    "print(\"Accuracy for random forest on test data: \", accuracy_forest_ex)"
   ]
  },
  {
   "cell_type": "code",
   "execution_count": 12,
   "metadata": {},
   "outputs": [
    {
     "name": "stdout",
     "output_type": "stream",
     "text": [
      "Train Accuracy: 0.9885714285714285\n"
     ]
    }
   ],
   "source": [
    "# Compute accuracy using training data.\n",
    "acc_train_forest_ex = forest_ex.score(X_train_ex, y_train_ex)\n",
    "\n",
    "print (\"Train Accuracy:\", acc_train_forest_ex)"
   ]
  },
  {
   "cell_type": "markdown",
   "metadata": {},
   "source": [
    "The train accuracy is high since it is on the training dataset. The accuracy on test data will almost always be lower since the model has not seen this data before."
   ]
  },
  {
   "cell_type": "markdown",
   "metadata": {},
   "source": [
    "#### Task 8\n",
    "##### Create a dictionary named `ex_model_final_dict` to save the accuracy `accuracy_forest_ex`.\n",
    "##### Convert the dictionary to a dataframe named `ex_model_final`.\n",
    "#### Result:"
   ]
  },
  {
   "cell_type": "code",
   "execution_count": 13,
   "metadata": {},
   "outputs": [
    {
     "name": "stdout",
     "output_type": "stream",
     "text": [
      "    metrics  values          model\n",
      "0  accuracy   0.865  random_forest\n"
     ]
    }
   ],
   "source": [
    "# Create a dictionary with accuracy values for our knn model with k = 5.\n",
    "ex_model_final_dict = {'metrics': [\"accuracy\"],\n",
    "               'values':[round(accuracy_forest_ex,4)],\n",
    "                'model':['random_forest']}\n",
    "ex_model_final = pd.DataFrame(data = ex_model_final_dict)\n",
    "print(ex_model_final)"
   ]
  },
  {
   "cell_type": "markdown",
   "metadata": {},
   "source": [
    "#### Task 9\n",
    "##### Print the feature importance graph and print the top 10 important features in our random forest model.\n",
    "\n",
    "#### Result:"
   ]
  },
  {
   "cell_type": "code",
   "execution_count": 14,
   "metadata": {},
   "outputs": [
    {
     "data": {
      "text/plain": [
       "Text(0.5, 0, 'Relative Importance')"
      ]
     },
     "execution_count": 14,
     "metadata": {},
     "output_type": "execute_result"
    },
    {
     "data": {
      "image/png": "[encoded data removed]",
      "text/plain": [
       "<Figure size 640x480 with 1 Axes>"
      ]
     },
     "metadata": {},
     "output_type": "display_data"
    }
   ],
   "source": [
    "bank_features = bank.drop('y', axis = 1)\n",
    "\n",
    "features_ex = bank_features.columns\n",
    "importances_ex = forest_ex.feature_importances_\n",
    "indices_ex = np.argsort(importances_ex)[::-1]\n",
    "top_indices_ex = indices_ex[0:10][::-1]\n",
    "\n",
    "plt.figure(1)\n",
    "plt.title('Feature Importance of Bank marketing dataset')\n",
    "plt.barh(range(len(top_indices_ex)), importances_ex[top_indices_ex], color = 'b', align = 'center')\n",
    "labels = features_ex[top_indices_ex]\n",
    "labels = [ '\\n'.join(wrap(l,13)) for l in labels ]\n",
    "plt.yticks(range(len(top_indices_ex)), labels)\n",
    "plt.xlabel('Relative Importance')"
   ]
  },
  {
   "cell_type": "markdown",
   "metadata": {},
   "source": [
    "## Exercise 2\n",
    "\n",
    "#### Task 1\n",
    "\n",
    "##### Create a gradient boosting classifier as `gbm_ex` with number of estimators set to 100, learning rate set to 1, max depth set to 1, and random state set to 1.\n",
    "##### Fit the model to our training data.\n",
    "\n",
    "#### Result:"
   ]
  },
  {
   "cell_type": "code",
   "execution_count": 15,
   "metadata": {},
   "outputs": [],
   "source": [
    "# Save the parameters we will be using for our gradient boosting classifier.\n",
    "gbm_ex = GradientBoostingClassifier(n_estimators = 100, \n",
    "                                    learning_rate = 1, \n",
    "                                    max_depth = 1,  \n",
    "                                    random_state = 1)"
   ]
  },
  {
   "cell_type": "code",
   "execution_count": 16,
   "metadata": {},
   "outputs": [
    {
     "data": {
      "text/plain": [
       "GradientBoostingClassifier(learning_rate=1, max_depth=1, random_state=1)"
      ]
     },
     "execution_count": 16,
     "metadata": {},
     "output_type": "execute_result"
    }
   ],
   "source": [
    "# Fit the saved model to your training data.\n",
    "gbm_ex.fit(X_train_ex, y_train_ex)"
   ]
  },
  {
   "cell_type": "markdown",
   "metadata": {},
   "source": [
    "#### Task 2\n",
    "##### Predict on the test data using our gbm classifier.\n",
    "##### Print the first 5 predicted values.\n",
    "\n",
    "#### Result:"
   ]
  },
  {
   "cell_type": "code",
   "execution_count": 17,
   "metadata": {},
   "outputs": [
    {
     "name": "stdout",
     "output_type": "stream",
     "text": [
      "[0 0 0 0 0]\n"
     ]
    }
   ],
   "source": [
    "# Predict on test data.\n",
    "predicted_values_gbm_ex = gbm_ex.predict(X_test_ex)\n",
    "print(predicted_values_gbm_ex[0:5,])"
   ]
  },
  {
   "cell_type": "markdown",
   "metadata": {},
   "source": [
    "#### Task 3\n",
    "##### Print the confusion matrix and accuracy score on the test data.\n",
    "##### Print the training accuracy of gbm model.\n",
    "\n",
    "#### Result:"
   ]
  },
  {
   "cell_type": "code",
   "execution_count": 18,
   "metadata": {},
   "outputs": [
    {
     "name": "stdout",
     "output_type": "stream",
     "text": [
      "[[521   6]\n",
      " [ 55  18]]\n"
     ]
    }
   ],
   "source": [
    "# Take a look at test data confusion matrix.\n",
    "conf_matrix_boosting_ex = metrics.confusion_matrix(y_test_ex, predicted_values_gbm_ex)\n",
    "print(conf_matrix_boosting_ex)"
   ]
  },
  {
   "cell_type": "code",
   "execution_count": 19,
   "metadata": {},
   "outputs": [
    {
     "name": "stdout",
     "output_type": "stream",
     "text": [
      "Accuracy of gbm on test data:  0.8983333333333333\n"
     ]
    }
   ],
   "source": [
    "# Compute test model accuracy score.\n",
    "accuracy_gbm_ex = metrics.accuracy_score(y_test_ex, predicted_values_gbm_ex)\n",
    "print('Accuracy of gbm on test data: ', accuracy_gbm_ex)"
   ]
  },
  {
   "cell_type": "code",
   "execution_count": 20,
   "metadata": {},
   "outputs": [
    {
     "name": "stdout",
     "output_type": "stream",
     "text": [
      "Train Accuracy: 0.8892857142857142\n"
     ]
    }
   ],
   "source": [
    "# Compute accuracy using training data.\n",
    "train_accuracy_gbm_ex = gbm_ex.score(X_train_ex, y_train_ex)\n",
    "\n",
    "print (\"Train Accuracy:\", train_accuracy_gbm_ex)"
   ]
  },
  {
   "cell_type": "markdown",
   "metadata": {},
   "source": [
    "#### Task 4\n",
    "##### Print the feature importance graph and print top 10 important predictors.\n",
    "#### Result:"
   ]
  },
  {
   "cell_type": "code",
   "execution_count": 21,
   "metadata": {},
   "outputs": [
    {
     "data": {
      "text/plain": [
       "Text(0.5, 0, 'Relative Importance')"
      ]
     },
     "execution_count": 21,
     "metadata": {},
     "output_type": "execute_result"
    },
    {
     "data": {
      "image/png": "[encoded data removed]",
      "text/plain": [
       "<Figure size 640x480 with 1 Axes>"
      ]
     },
     "metadata": {},
     "output_type": "display_data"
    }
   ],
   "source": [
    "bank_features = bank.drop('y', axis = 1)\n",
    "\n",
    "features_ex = bank_features.columns\n",
    "importances_ex = gbm_ex.feature_importances_\n",
    "indices_ex = np.argsort(importances_ex)[::-1]\n",
    "top_indices_ex = indices_ex[0:10][::-1]\n",
    "\n",
    "plt.figure(1)\n",
    "plt.title('Feature Importance of Bank marketing dataset')\n",
    "plt.barh(range(len(top_indices_ex)), importances_ex[top_indices_ex], color = 'b', align = 'center')\n",
    "labels = features_ex[top_indices_ex]\n",
    "labels = [ '\\n'.join(wrap(l,13)) for l in labels ]\n",
    "plt.yticks(range(len(top_indices_ex)), labels)\n",
    "plt.xlabel('Relative Importance')"
   ]
  },
  {
   "cell_type": "markdown",
   "metadata": {},
   "source": [
    "#### Task 5 \n",
    "##### Add the gbm accuracy score in the dataset `ex_model_final` to compare accuracies. Save as `ex_model_final_rf_gbm`.\n"
   ]
  },
  {
   "cell_type": "markdown",
   "metadata": {},
   "source": [
    "#### Result:"
   ]
  },
  {
   "cell_type": "code",
   "execution_count": 22,
   "metadata": {},
   "outputs": [
    {
     "name": "stdout",
     "output_type": "stream",
     "text": [
      "    metrics  values          model\n",
      "0  accuracy  0.8650  random_forest\n",
      "1  accuracy  0.8983            gbm\n"
     ]
    }
   ],
   "source": [
    "# Add the gbm model to our dataframe.\n",
    "ex_model_final_rf_gbm = ex_model_final.append({'metrics' : \"accuracy\" , \n",
    "                                                'values' : round(accuracy_gbm_ex,4),\n",
    "                                                'model':'gbm' } , \n",
    "                                                ignore_index = True)\n",
    "print(ex_model_final_rf_gbm)"
   ]
  },
  {
   "cell_type": "code",
   "execution_count": null,
   "metadata": {},
   "outputs": [],
   "source": []
  }
 ],
 "metadata": {
  "kernelspec": {
   "display_name": "Python 3 (ipykernel)",
   "language": "python",
   "name": "python3"
  },
  "language_info": {
   "codemirror_mode": {
    "name": "ipython",
    "version": 3
   },
   "file_extension": ".py",
   "mimetype": "text/x-python",
   "name": "python",
   "nbconvert_exporter": "python",
   "pygments_lexer": "ipython3",
   "version": "3.7.10"
  },
  "toc": {
   "base_numbering": 1,
   "nav_menu": {},
   "number_sections": true,
   "sideBar": true,
   "skip_h1_title": false,
   "title_cell": "Table of Contents",
   "title_sidebar": "Contents",
   "toc_cell": false,
   "toc_position": {},
   "toc_section_display": true,
   "toc_window_display": false
  }
 },
 "nbformat": 4,
 "nbformat_minor": 2
}
