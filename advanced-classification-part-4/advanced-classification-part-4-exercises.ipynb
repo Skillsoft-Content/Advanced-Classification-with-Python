{
 "cells": [
  {
   "cell_type": "markdown",
   "metadata": {},
   "source": [
    "# Advanced Classification Part 4 - Exercises"
   ]
  },
  {
   "cell_type": "markdown",
   "metadata": {},
   "source": [
    "## Exercise 1"
   ]
  },
  {
   "cell_type": "markdown",
   "metadata": {},
   "source": [
    "#### Task 1 \n",
    "##### Load libraries that are used in this module.\n",
    "\n",
    "#### Result:"
   ]
  },
  {
   "cell_type": "code",
   "execution_count": null,
   "metadata": {},
   "outputs": [],
   "source": []
  },
  {
   "cell_type": "markdown",
   "metadata": {},
   "source": [
    "#### Task 2\n",
    "##### Define the directory settings.\n",
    "#### Result:"
   ]
  },
  {
   "cell_type": "code",
   "execution_count": null,
   "metadata": {},
   "outputs": [],
   "source": []
  },
  {
   "cell_type": "markdown",
   "metadata": {},
   "source": [
    "#### Task 3\n",
    "##### Load the clean pickled dataset `bank_clean.sav` and save as `bank`.\n",
    "##### Load the pickled `metrics_forest_ex` dataframe and save as `metrics_gbm_ex`.\n",
    "##### Print the head of the data.\n",
    "\n",
    "#### Result:"
   ]
  },
  {
   "cell_type": "code",
   "execution_count": null,
   "metadata": {},
   "outputs": [],
   "source": []
  },
  {
   "cell_type": "markdown",
   "metadata": {},
   "source": [
    "#### Task 4\n",
    "##### Select the predictors by dropping variable `y` and save the result to a dataframe `X_ex`.\n",
    "##### Save the target variable `y` column to `y_ex` variable.\n",
    "##### Set seed as 1.\n",
    "##### Split the data into training and test sets with 70:30 ratio and save respective variables to `X_train_ex`, `X_test_ex`, `y_train_ex`, `y_test_ex`.\n",
    "\n",
    "#### Result:"
   ]
  },
  {
   "cell_type": "code",
   "execution_count": null,
   "metadata": {},
   "outputs": [],
   "source": []
  },
  {
   "cell_type": "markdown",
   "metadata": {},
   "source": [
    "#### Task 5 \n",
    "##### Instantiate a vanilla GMB model and name as `gbm_ex`.\n",
    "##### Fit the model with train data.\n",
    "#### Result:"
   ]
  },
  {
   "cell_type": "code",
   "execution_count": null,
   "metadata": {},
   "outputs": [],
   "source": []
  },
  {
   "cell_type": "markdown",
   "metadata": {},
   "source": [
    "#### Task 6\n",
    "##### Predict the predictions and their probabilities and save as `gbm_y_predict_ex` and `gbm_y_predict_proba_ex` respectively.\n",
    "##### Find the performance scores of the gbm model using function `get_performance_scores()` which we defined below. Save as `gbm_scores_ex`.\n"
   ]
  },
  {
   "cell_type": "code",
   "execution_count": 7,
   "metadata": {},
   "outputs": [],
   "source": [
    "def get_performance_scores(y_test, y_predict, y_predict_prob, eps=1e-15, beta=0.5):\n",
    "\n",
    "    from sklearn import metrics\n",
    "\n",
    "    # Scores keys.\n",
    "    metric_keys = [\"accuracy\", \"precision\", \"recall\", \"f1\", \"fbeta\", \"log_loss\", \"AUC\"]\n",
    "\n",
    "    # Score values.\n",
    "    metric_values = [None]*len(metric_keys)\n",
    "\n",
    "    metric_values[0] = metrics.accuracy_score(y_test, y_predict)\n",
    "    metric_values[1] = metrics.precision_score(y_test, y_predict)\n",
    "    metric_values[2] = metrics.recall_score(y_test, y_predict)\n",
    "    metric_values[3] = metrics.f1_score(y_test, y_predict)\n",
    "    metric_values[4] = metrics.fbeta_score(y_test, y_predict, beta=beta)\n",
    "    metric_values[5] = metrics.log_loss(y_test, y_predict_prob[:, 1], eps=eps)\n",
    "    metric_values[6] = metrics.roc_auc_score(y_test, y_predict_prob[:, 1])\n",
    "\n",
    "    perf_metrics = dict(zip(metric_keys, metric_values))\n",
    "\n",
    "    return(perf_metrics)"
   ]
  },
  {
   "cell_type": "markdown",
   "metadata": {},
   "source": [
    "#### Result:"
   ]
  },
  {
   "cell_type": "code",
   "execution_count": null,
   "metadata": {},
   "outputs": [],
   "source": []
  },
  {
   "cell_type": "markdown",
   "metadata": {},
   "source": [
    "#### Task 7\n",
    "##### Plot precision-recall curve of the three models we have run till now.\n",
    "#### Result:"
   ]
  },
  {
   "cell_type": "code",
   "execution_count": null,
   "metadata": {},
   "outputs": [],
   "source": []
  },
  {
   "cell_type": "markdown",
   "metadata": {},
   "source": [
    "#### Task 8\n",
    "##### Similarly, plot the ROC curve of the three models.\n",
    "#### Result:"
   ]
  },
  {
   "cell_type": "code",
   "execution_count": null,
   "metadata": {},
   "outputs": [],
   "source": []
  },
  {
   "cell_type": "markdown",
   "metadata": {},
   "source": [
    "#### Task 9\n",
    "##### Update `metrics_gbm_ex` with our gbm scores `gbm_scores_ex`. Print results.\n",
    "#### Result:"
   ]
  },
  {
   "cell_type": "code",
   "execution_count": null,
   "metadata": {},
   "outputs": [],
   "source": []
  },
  {
   "cell_type": "markdown",
   "metadata": {},
   "source": [
    "#### Task 10\n",
    "##### Instantiate a gbm model again and create a grid of parameter ranges as we did in class.\n",
    "##### Call the grid `random_grid_ex`.\n",
    "#### Result:"
   ]
  },
  {
   "cell_type": "code",
   "execution_count": null,
   "metadata": {},
   "outputs": [],
   "source": []
  },
  {
   "cell_type": "markdown",
   "metadata": {},
   "source": [
    "#### Task 11\n",
    "##### Instantiate the randomized model, call it `gbm_random_ex`.\n",
    "##### Use 3-fold cross-validation with 100 different combinations.\n",
    "##### Fit the model with `X_train_ex` and ` y_train_ex` and take a look at the `best_params_`.\n",
    "#### Result:"
   ]
  },
  {
   "cell_type": "code",
   "execution_count": null,
   "metadata": {},
   "outputs": [],
   "source": []
  },
  {
   "cell_type": "markdown",
   "metadata": {},
   "source": [
    "#### Task 12\n",
    "##### Now use the optimized parameters to implement the optimized gradient boosting model.\n",
    "##### Name it `optimized_gbm_ex`.\n",
    "##### Fit with train  data.\n",
    "#### Result:"
   ]
  },
  {
   "cell_type": "code",
   "execution_count": null,
   "metadata": {},
   "outputs": [],
   "source": []
  },
  {
   "cell_type": "markdown",
   "metadata": {},
   "source": [
    "## Exercise 2"
   ]
  },
  {
   "cell_type": "markdown",
   "metadata": {},
   "source": [
    "#### Task 1\n",
    "##### Predict on the test data using our optimized gbm classifier `optimized_gbm_ex`.\n",
    "##### Predict the predictions and their probabilities and save as `optimized_gbm_y_predict_ex` and `optimized_gbm_y_predict_proba_ex` respectively.\n",
    "##### Find the performance scores of the optimized forest using function `get_performance_scores()` which we defined above.\n",
    "\n",
    "\n",
    "\n",
    "\n",
    "\n",
    "#### Result:"
   ]
  },
  {
   "cell_type": "code",
   "execution_count": null,
   "metadata": {},
   "outputs": [],
   "source": []
  },
  {
   "cell_type": "markdown",
   "metadata": {},
   "source": [
    "#### Task 2\n",
    "#### Now plot the precision-recall plot of the four models. Save the new gbm plot as `opt_gbm_prec_recall_ex`.\n",
    "\n",
    "#### Result:"
   ]
  },
  {
   "cell_type": "code",
   "execution_count": null,
   "metadata": {},
   "outputs": [],
   "source": []
  },
  {
   "cell_type": "markdown",
   "metadata": {},
   "source": [
    "#### Task 3\n",
    "#### Similarly, plot the ROC plot of the four models. Save the new gbm plot as `opt_gbm_roc_ex`.\n",
    "#### Result:"
   ]
  },
  {
   "cell_type": "code",
   "execution_count": null,
   "metadata": {},
   "outputs": [],
   "source": []
  },
  {
   "cell_type": "markdown",
   "metadata": {},
   "source": [
    "#### Task 4\n",
    "##### Update `metrics_gbm_ex` with our gbm scores `optimized_gbm_scores_ex`. Print results.\n",
    "##### Convert `metrics_gbm_ex` into a pandas dataframe and create new column `metric` using the index.\n",
    "##### Use `pd.melt()` to switch our dataframe to long format.\n",
    "#### Result:"
   ]
  },
  {
   "cell_type": "code",
   "execution_count": null,
   "metadata": {},
   "outputs": [],
   "source": []
  },
  {
   "cell_type": "markdown",
   "metadata": {},
   "source": [
    "#### Task 5\n",
    "##### Now plot the metrics for each model for comparison.\n",
    "#### Result:"
   ]
  },
  {
   "cell_type": "code",
   "execution_count": null,
   "metadata": {},
   "outputs": [],
   "source": []
  },
  {
   "cell_type": "markdown",
   "metadata": {},
   "source": [
    "#### Task 6\n",
    "##### We summarize the conversion to a dataframe and plots into a single function `compare_metrics()`.\n",
    "##### Use the function to perform the above actions on `metrics_gbm_ex`."
   ]
  },
  {
   "cell_type": "code",
   "execution_count": 24,
   "metadata": {},
   "outputs": [],
   "source": [
    "def compare_metrics(metrics_dict, color_list = None):\n",
    "    \n",
    "    import pandas as pd\n",
    "    import matplotlib.pyplot as plt\n",
    "    \n",
    "    metrics_df = pd.DataFrame(metrics_dict)\n",
    "    metrics_df[\"metric\"] = metrics_df.index\n",
    "    metrics_df = metrics_df.reset_index(drop = True)\n",
    "\n",
    "    metrics_long = pd.melt(metrics_df,\n",
    "                           id_vars = \"metric\",\n",
    "                           var_name = \"model\",\n",
    "                           value_vars = list(metrics_dict.keys()))\n",
    "    \n",
    "    if color_list is None:\n",
    "        cmap = plt.rcParams['axes.prop_cycle'].by_key()['color']\n",
    "        colors = cmap[:len(metrics_dict.keys())]\n",
    "    else:\n",
    "        colors = color_list\n",
    "\n",
    "    fig, axes = plt.subplots(2, 3, figsize = (15, 8))\n",
    "    for (metric, group), ax in zip(metrics_long.groupby(\"metric\"), axes.flatten()):\n",
    "        group.plot(x = 'model', \n",
    "                   y = 'value', \n",
    "                   kind = 'bar',\n",
    "                   color = colors,\n",
    "                   ax = ax,\n",
    "                   title = metric,\n",
    "                   legend = None,\n",
    "                   sharex = True)\n",
    "        \n",
    "        ax.xaxis.set_tick_params(rotation = 45)\n",
    "    plt.tight_layout(0.5)\n",
    "     \n",
    "    return((fig, axes))"
   ]
  },
  {
   "cell_type": "markdown",
   "metadata": {},
   "source": [
    "#### Result:"
   ]
  },
  {
   "cell_type": "code",
   "execution_count": null,
   "metadata": {},
   "outputs": [],
   "source": []
  }
 ],
 "metadata": {
  "kernelspec": {
   "display_name": "Python 3 (ipykernel)",
   "language": "python",
   "name": "python3"
  },
  "language_info": {
   "codemirror_mode": {
    "name": "ipython",
    "version": 3
   },
   "file_extension": ".py",
   "mimetype": "text/x-python",
   "name": "python",
   "nbconvert_exporter": "python",
   "pygments_lexer": "ipython3",
   "version": "3.7.10"
  },
  "toc": {
   "base_numbering": 1,
   "nav_menu": {},
   "number_sections": true,
   "sideBar": true,
   "skip_h1_title": false,
   "title_cell": "Table of Contents",
   "title_sidebar": "Contents",
   "toc_cell": false,
   "toc_position": {},
   "toc_section_display": true,
   "toc_window_display": false
  }
 },
 "nbformat": 4,
 "nbformat_minor": 4
}
