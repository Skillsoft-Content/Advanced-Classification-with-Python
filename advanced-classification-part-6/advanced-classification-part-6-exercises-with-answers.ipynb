{
 "cells": [
  {
   "cell_type": "markdown",
   "metadata": {},
   "source": [
    " # Advanced Classification Part 6 - Exercises with Results"
   ]
  },
  {
   "cell_type": "markdown",
   "metadata": {},
   "source": [
    "## Exercise 1"
   ]
  },
  {
   "cell_type": "markdown",
   "metadata": {},
   "source": [
    "#### Task 1 \n",
    "##### Load libraries that are used in this module.\n",
    "\n",
    "#### Result:"
   ]
  },
  {
   "cell_type": "code",
   "execution_count": 1,
   "metadata": {},
   "outputs": [],
   "source": [
    "import os\n",
    "import pickle\n",
    "import numpy as np\n",
    "import pandas as pd\n",
    "import matplotlib.pyplot as plt\n",
    "from sklearn.model_selection import train_test_split\n",
    "from sklearn.svm import SVC\n",
    "from sklearn import metrics\n",
    "from sklearn.model_selection import GridSearchCV\n",
    "from pathlib import Path"
   ]
  },
  {
   "cell_type": "markdown",
   "metadata": {},
   "source": [
    "#### Task 2\n",
    "##### Define the directory settings.\n",
    "\n",
    "#### Result:"
   ]
  },
  {
   "cell_type": "code",
   "execution_count": 2,
   "metadata": {},
   "outputs": [
    {
     "name": "stdout",
     "output_type": "stream",
     "text": [
      "/Users/aashika/Desktop/skillsoft-advanced-classification-2022\n",
      "/Users/aashika/Desktop/skillsoft-advanced-classification-2022/data\n"
     ]
    }
   ],
   "source": [
    "# Set 'main_dir' to location of the project folder\n",
    "home_dir = Path(\".\").resolve()\n",
    "main_dir = home_dir.parent.parent\n",
    "print(main_dir)\n",
    "data_dir = str(main_dir) + \"/data\"\n",
    "print(data_dir)"
   ]
  },
  {
   "cell_type": "markdown",
   "metadata": {},
   "source": [
    "#### Task 3\n",
    "\n",
    "##### Load the pickle  `bank_clean.sav` that we saved from last time and save it as `bank`.\n",
    "##### Load the pickle `metrics_svm_ex` and save it with the same name.\n",
    "##### View the first few rows and column names of `bank`.\n",
    "\n",
    "#### Result:"
   ]
  },
  {
   "cell_type": "code",
   "execution_count": 3,
   "metadata": {},
   "outputs": [],
   "source": [
    "bank =  pickle.load(open(str(data_dir)+\"/bank_clean.sav\",\"rb\"))"
   ]
  },
  {
   "cell_type": "code",
   "execution_count": 4,
   "metadata": {},
   "outputs": [],
   "source": [
    "metrics_svm_ex = pickle.load(open(str(data_dir)+\"/metrics_svm_ex.sav\",\"rb\"))"
   ]
  },
  {
   "cell_type": "code",
   "execution_count": 5,
   "metadata": {},
   "outputs": [
    {
     "data": {
      "text/html": [
       "<div>\n",
       "<style scoped>\n",
       "    .dataframe tbody tr th:only-of-type {\n",
       "        vertical-align: middle;\n",
       "    }\n",
       "\n",
       "    .dataframe tbody tr th {\n",
       "        vertical-align: top;\n",
       "    }\n",
       "\n",
       "    .dataframe thead th {\n",
       "        text-align: right;\n",
       "    }\n",
       "</style>\n",
       "<table border=\"1\" class=\"dataframe\">\n",
       "  <thead>\n",
       "    <tr style=\"text-align: right;\">\n",
       "      <th></th>\n",
       "      <th>age</th>\n",
       "      <th>campaign</th>\n",
       "      <th>emp_var_rate</th>\n",
       "      <th>cons_price_idx</th>\n",
       "      <th>cons_conf_idx</th>\n",
       "      <th>euribor3m</th>\n",
       "      <th>nr_employed</th>\n",
       "      <th>y</th>\n",
       "    </tr>\n",
       "  </thead>\n",
       "  <tbody>\n",
       "    <tr>\n",
       "      <th>35577</th>\n",
       "      <td>32</td>\n",
       "      <td>1</td>\n",
       "      <td>-1.8</td>\n",
       "      <td>92.893</td>\n",
       "      <td>-46.2</td>\n",
       "      <td>1.244</td>\n",
       "      <td>5099</td>\n",
       "      <td>0</td>\n",
       "    </tr>\n",
       "    <tr>\n",
       "      <th>13950</th>\n",
       "      <td>33</td>\n",
       "      <td>2</td>\n",
       "      <td>1.4</td>\n",
       "      <td>93.918</td>\n",
       "      <td>-42.7</td>\n",
       "      <td>4.963</td>\n",
       "      <td>5228</td>\n",
       "      <td>0</td>\n",
       "    </tr>\n",
       "    <tr>\n",
       "      <th>29451</th>\n",
       "      <td>25</td>\n",
       "      <td>5</td>\n",
       "      <td>-1.8</td>\n",
       "      <td>93.075</td>\n",
       "      <td>-47.1</td>\n",
       "      <td>1.405</td>\n",
       "      <td>5099</td>\n",
       "      <td>1</td>\n",
       "    </tr>\n",
       "    <tr>\n",
       "      <th>32295</th>\n",
       "      <td>34</td>\n",
       "      <td>1</td>\n",
       "      <td>-1.8</td>\n",
       "      <td>92.893</td>\n",
       "      <td>-46.2</td>\n",
       "      <td>1.313</td>\n",
       "      <td>5099</td>\n",
       "      <td>0</td>\n",
       "    </tr>\n",
       "    <tr>\n",
       "      <th>27477</th>\n",
       "      <td>53</td>\n",
       "      <td>7</td>\n",
       "      <td>-0.1</td>\n",
       "      <td>93.200</td>\n",
       "      <td>-42.0</td>\n",
       "      <td>4.021</td>\n",
       "      <td>5196</td>\n",
       "      <td>0</td>\n",
       "    </tr>\n",
       "  </tbody>\n",
       "</table>\n",
       "</div>"
      ],
      "text/plain": [
       "       age  campaign  emp_var_rate  cons_price_idx  cons_conf_idx  euribor3m  \\\n",
       "35577   32         1          -1.8          92.893          -46.2      1.244   \n",
       "13950   33         2           1.4          93.918          -42.7      4.963   \n",
       "29451   25         5          -1.8          93.075          -47.1      1.405   \n",
       "32295   34         1          -1.8          92.893          -46.2      1.313   \n",
       "27477   53         7          -0.1          93.200          -42.0      4.021   \n",
       "\n",
       "       nr_employed  y  \n",
       "35577         5099  0  \n",
       "13950         5228  0  \n",
       "29451         5099  1  \n",
       "32295         5099  0  \n",
       "27477         5196  0  "
      ]
     },
     "execution_count": 5,
     "metadata": {},
     "output_type": "execute_result"
    }
   ],
   "source": [
    "bank.head()"
   ]
  },
  {
   "cell_type": "code",
   "execution_count": 8,
   "metadata": {},
   "outputs": [
    {
     "data": {
      "text/plain": [
       "Index(['age', 'campaign', 'emp_var_rate', 'cons_price_idx', 'cons_conf_idx',\n",
       "       'euribor3m', 'nr_employed', 'y'],\n",
       "      dtype='object')"
      ]
     },
     "execution_count": 8,
     "metadata": {},
     "output_type": "execute_result"
    }
   ],
   "source": [
    "bank.columns"
   ]
  },
  {
   "cell_type": "markdown",
   "metadata": {},
   "source": [
    "#### Task 4\n",
    "##### Select the predictors by dropping variable `y` and save the result to a dataframe `X_ex`.\n",
    "##### Save the target variable `y` column to `y_ex` variable.\n",
    "##### Set seed as 1.\n",
    "##### Split the data into train and test sets and save respective variables to `X_train_ex`, `X_test_ex`,  `y_train_ex`,  `y_test_ex`.\n",
    "\n",
    "#### Result:"
   ]
  },
  {
   "cell_type": "code",
   "execution_count": 6,
   "metadata": {},
   "outputs": [],
   "source": [
    "# Select the predictors and target.\n",
    "X_ex = bank.drop(['y'], axis = 1)\n",
    "y_ex = np.array(bank['y'])\n",
    "\n",
    "# Set the seed to 1.\n",
    "np.random.seed(1)\n",
    "\n",
    "# Split into training and test sets.\n",
    "X_train_ex, X_test_ex, y_train_ex, y_test_ex = train_test_split(X_ex, y_ex, test_size = 0.3)"
   ]
  },
  {
   "cell_type": "markdown",
   "metadata": {},
   "source": [
    "#### Task 5\n",
    "\n",
    "##### Create an SVM model and save as `ex_sv_machine`. \n",
    "##### Set the kernel as `rbf` and gamma as 0.011\n",
    "\n",
    "##### Fit `ex_sv_machine` with `X_train_ex` and `y_train_ex`. \n",
    "\n",
    "#### Result:"
   ]
  },
  {
   "cell_type": "code",
   "execution_count": 7,
   "metadata": {},
   "outputs": [
    {
     "data": {
      "text/plain": [
       "SVC(gamma=0.011, probability=True)"
      ]
     },
     "execution_count": 7,
     "metadata": {},
     "output_type": "execute_result"
    }
   ],
   "source": [
    "ex_sv_machine = SVC(kernel = 'rbf', \n",
    "                    gamma = 0.011,\n",
    "                   probability = True)\n",
    "ex_sv_machine.fit(X_train_ex, y_train_ex)"
   ]
  },
  {
   "cell_type": "markdown",
   "metadata": {},
   "source": [
    "#### Task 6\n",
    "\n",
    "##### Using the trained `ex_sv_machine`, predict on the test data. \n",
    "##### Save the prediction as `ex_svm_y_predict` and print the first five rows of the prediction. \n",
    "##### Save the prediction probabilities as `ex_svm_y_predict_prob`.\n",
    "##### Print the first five rows of the prediction and prediction probabilities.\n",
    "\n",
    "#### Result:"
   ]
  },
  {
   "cell_type": "code",
   "execution_count": 8,
   "metadata": {},
   "outputs": [
    {
     "data": {
      "text/plain": [
       "array([0, 0, 0, 0, 0])"
      ]
     },
     "execution_count": 8,
     "metadata": {},
     "output_type": "execute_result"
    }
   ],
   "source": [
    "ex_svm_y_predict = ex_sv_machine.predict(X_test_ex)\n",
    "ex_svm_y_predict[0:5]"
   ]
  },
  {
   "cell_type": "code",
   "execution_count": 9,
   "metadata": {},
   "outputs": [
    {
     "name": "stdout",
     "output_type": "stream",
     "text": [
      "[[0.89245481 0.10754519]\n",
      " [0.87835126 0.12164874]\n",
      " [0.89196819 0.10803181]\n",
      " ...\n",
      " [0.89197076 0.10802924]\n",
      " [0.51042778 0.48957222]\n",
      " [0.89697726 0.10302274]]\n"
     ]
    }
   ],
   "source": [
    "#Predict on test, but instead of labels \n",
    "# we will get probabilities for class 0 and 1.\n",
    "ex_svm_y_predict_prob = ex_sv_machine.predict_proba(X_test_ex) \n",
    "print(ex_svm_y_predict_prob[5:])"
   ]
  },
  {
   "cell_type": "markdown",
   "metadata": {},
   "source": [
    "#### Task 7\n",
    "\n",
    "##### Compute the metrics of our svm model using the function - `get_performance_scores` given below and save as `ex_svm_scores` and print results.\n"
   ]
  },
  {
   "cell_type": "code",
   "execution_count": 10,
   "metadata": {},
   "outputs": [],
   "source": [
    "def get_performance_scores(y_test, y_predict, y_predict_prob, eps=1e-15, beta=0.5):\n",
    "\n",
    "    from sklearn import metrics\n",
    "\n",
    "    # Scores keys.\n",
    "    metric_keys = [\"accuracy\", \"precision\", \"recall\", \"f1\", \"fbeta\", \"log_loss\", \"AUC\"]\n",
    "\n",
    "    # Score values.\n",
    "    metric_values = [None]*len(metric_keys)\n",
    "\n",
    "    metric_values[0] = metrics.accuracy_score(y_test, y_predict)\n",
    "    metric_values[1] = metrics.precision_score(y_test, y_predict)\n",
    "    metric_values[2] = metrics.recall_score(y_test, y_predict)\n",
    "    metric_values[3] = metrics.f1_score(y_test, y_predict)\n",
    "    metric_values[4] = metrics.fbeta_score(y_test, y_predict, beta=beta)\n",
    "    metric_values[5] = metrics.log_loss(y_test, y_predict_prob[:, 1], eps=eps)\n",
    "    metric_values[6] = metrics.roc_auc_score(y_test, y_predict_prob[:, 1])\n",
    "\n",
    "    perf_metrics = dict(zip(metric_keys, metric_values))\n",
    "\n",
    "    return(perf_metrics)"
   ]
  },
  {
   "cell_type": "markdown",
   "metadata": {},
   "source": [
    "#### Result:"
   ]
  },
  {
   "cell_type": "code",
   "execution_count": 11,
   "metadata": {},
   "outputs": [
    {
     "name": "stdout",
     "output_type": "stream",
     "text": [
      "{'accuracy': 0.8883333333333333, 'precision': 0.6875, 'recall': 0.1506849315068493, 'f1': 0.24719101123595508, 'fbeta': 0.4014598540145985, 'log_loss': 0.33948746548881387, 'AUC': 0.6358425827246497}\n"
     ]
    }
   ],
   "source": [
    "ex_svm_scores = get_performance_scores(y_test_ex, ex_svm_y_predict, ex_svm_y_predict_prob)\n",
    "print(ex_svm_scores)"
   ]
  },
  {
   "cell_type": "markdown",
   "metadata": {},
   "source": [
    "#### Task 8\n",
    "\n",
    "##### Save the precision-recall curve of the svm model  in `ex_svm_prec_recall`. Set parameters as shown in class.\n",
    "##### Plot the curve `ex_svm_prec_recall`. \n",
    "\n",
    "\n",
    "#### Result:"
   ]
  },
  {
   "cell_type": "code",
   "execution_count": 12,
   "metadata": {},
   "outputs": [
    {
     "data": {
      "image/png": "[encoded data removed]",
      "text/plain": [
       "<Figure size 640x480 with 1 Axes>"
      ]
     },
     "metadata": {},
     "output_type": "display_data"
    }
   ],
   "source": [
    "ax = plt.gca() #<- create a new axis object\n",
    "ex_svm_prec_recall = metrics.plot_precision_recall_curve(ex_sv_machine,\n",
    "                                 X_test_ex, \n",
    "                                 y_test_ex,\n",
    "                                 ax = ax,\n",
    "                                 name = \"SVM\")\n",
    "plt.show()"
   ]
  },
  {
   "cell_type": "markdown",
   "metadata": {},
   "source": [
    "#### Task 9\n",
    "\n",
    "##### Similar to above, plot the ROC curve of the svm model.\n",
    "##### Save the curve as `ex_svm_roc`.\n",
    "##### Plot the curve `ex_svm_roc`. \n",
    "\n",
    "#### Result:"
   ]
  },
  {
   "cell_type": "code",
   "execution_count": 13,
   "metadata": {},
   "outputs": [
    {
     "data": {
      "image/png": "[encoded data removed]",
      "text/plain": [
       "<Figure size 640x480 with 1 Axes>"
      ]
     },
     "metadata": {},
     "output_type": "display_data"
    }
   ],
   "source": [
    "ax = plt.gca()\n",
    "ex_svm_roc = metrics.plot_roc_curve(ex_sv_machine,\n",
    "                       X_test_ex,\n",
    "                       y_test_ex,\n",
    "                       name = \"SVM\",\n",
    "                       ax = ax)\n",
    "\n",
    "\n",
    "plt.show()"
   ]
  },
  {
   "cell_type": "markdown",
   "metadata": {},
   "source": [
    "#### Task 10\n",
    "\n",
    "##### Save the scores `svm_scores`  as  \"SVM\" to `metrics_svm_ex`.\n",
    "\n",
    "#### Result:"
   ]
  },
  {
   "cell_type": "code",
   "execution_count": 14,
   "metadata": {},
   "outputs": [
    {
     "name": "stdout",
     "output_type": "stream",
     "text": [
      "{'RF': {'accuracy': 0.8716666666666667, 'precision': 0.4411764705882353, 'recall': 0.2054794520547945, 'f1': 0.2803738317757009, 'fbeta': 0.3588516746411483, 'log_loss': 1.0075494584661249, 'AUC': 0.7337734917210366}, 'Optimized RF': {'accuracy': 0.8933333333333333, 'precision': 0.7142857142857143, 'recall': 0.2054794520547945, 'f1': 0.3191489361702127, 'fbeta': 0.4777070063694268, 'log_loss': 0.31929555370400753, 'AUC': 0.7813287931168932}, 'GBM': {'accuracy': 0.895, 'precision': 0.7083333333333334, 'recall': 0.2328767123287671, 'f1': 0.3505154639175258, 'fbeta': 0.5029585798816569, 'log_loss': 0.30041312491642347, 'AUC': 0.7918172129656105}, 'Optimized GBM': {'accuracy': 0.8816666666666667, 'precision': 0.5714285714285714, 'recall': 0.1095890410958904, 'f1': 0.1839080459770115, 'fbeta': 0.3100775193798449, 'log_loss': 0.3196653331095461, 'AUC': 0.7571287463284032}, 'SVC': {'accuracy': 0.87, 'precision': 0.3333333333333333, 'recall': 0.0684931506849315, 'f1': 0.11363636363636363, 'fbeta': 0.18796992481203006, 'log_loss': 0.35663959180768584, 'AUC': 0.6554417613267136}, 'SVM': {'accuracy': 0.8883333333333333, 'precision': 0.6875, 'recall': 0.1506849315068493, 'f1': 0.24719101123595508, 'fbeta': 0.4014598540145985, 'log_loss': 0.33948746548881387, 'AUC': 0.6358425827246497}}\n"
     ]
    }
   ],
   "source": [
    "# Add the model to our dataframe.\n",
    "metrics_svm_ex.update({\"SVM\": ex_svm_scores})\n",
    "print(metrics_svm_ex)"
   ]
  },
  {
   "cell_type": "markdown",
   "metadata": {},
   "source": [
    "## Exercise 2"
   ]
  },
  {
   "cell_type": "markdown",
   "metadata": {},
   "source": [
    "#### Task 1\n",
    "\n",
    "##### Set the range parameters for cross-validation as \n",
    "```[{'kernel': ['rbf'], 'gamma': [1e-3, 1e-4],'C': [1, 10, 100, 1000]}]\n",
    "```\n",
    "##### and save as `ex_tuned_parameters`.\n",
    "##### Fit the tuned parameters for grid search to svm and save as `ex_svm_cv`.\n",
    "##### Train the model with `X_train_ex` and `y_train_ex`.\n",
    "\n",
    "\n",
    "#### Result: "
   ]
  },
  {
   "cell_type": "code",
   "execution_count": 15,
   "metadata": {},
   "outputs": [
    {
     "data": {
      "text/plain": [
       "GridSearchCV(cv=5, estimator=SVC(),\n",
       "             param_grid=[{'C': [1, 10, 100, 1000], 'gamma': [0.001, 0.0001],\n",
       "                          'kernel': ['rbf']}])"
      ]
     },
     "execution_count": 15,
     "metadata": {},
     "output_type": "execute_result"
    }
   ],
   "source": [
    "# Set the parameters by cross-validation.\n",
    "ex_tuned_parameters = [{'kernel': ['rbf'], 'gamma': [1e-3, 1e-4],\n",
    "                        'C': [1, 10, 100, 1000]}]\n",
    "\n",
    "# Fit the tuned parameters for grid search to SVM. \n",
    "ex_svm_cv = GridSearchCV(SVC(), ex_tuned_parameters, cv = 5)\n",
    "ex_svm_cv.fit(X_train_ex, y_train_ex)"
   ]
  },
  {
   "cell_type": "markdown",
   "metadata": {},
   "source": [
    "#### Task 2\n",
    "\n",
    "##### Find the best tuned parameters for `ex_svm_cv`.\n",
    "##### Save each of the best parameters as `ex_optimized_c`, `ex_optimized_gamma`, and `ex_optimized_kernel`.\n",
    "\n",
    "#### Result:"
   ]
  },
  {
   "cell_type": "code",
   "execution_count": 16,
   "metadata": {},
   "outputs": [
    {
     "name": "stdout",
     "output_type": "stream",
     "text": [
      "{'C': 1, 'gamma': 0.0001, 'kernel': 'rbf'}\n"
     ]
    }
   ],
   "source": [
    "print(ex_svm_cv.best_params_)"
   ]
  },
  {
   "cell_type": "code",
   "execution_count": 17,
   "metadata": {},
   "outputs": [],
   "source": [
    "ex_optmized_c = ex_svm_cv.best_params_['C']\n",
    "ex_optmized_gamma = ex_svm_cv.best_params_['gamma']\n",
    "ex_optmized_kernel = ex_svm_cv.best_params_['kernel']"
   ]
  },
  {
   "cell_type": "markdown",
   "metadata": {},
   "source": [
    "#### Task 3\n",
    "\n",
    "##### Using the optimized parameters as hyperparameters, create a SVM model and save as `ex_sv_cv_optimized`.\n",
    "##### Train `ex_sv_cv_optimized` with `X_train_ex` and `y_train_ex`.\n",
    "\n",
    "#### Result:"
   ]
  },
  {
   "cell_type": "code",
   "execution_count": 18,
   "metadata": {},
   "outputs": [
    {
     "data": {
      "text/plain": [
       "SVC(C=1, gamma=0.0001, probability=True)"
      ]
     },
     "execution_count": 18,
     "metadata": {},
     "output_type": "execute_result"
    }
   ],
   "source": [
    "# Run the model with optimized hyperparameters.\n",
    "ex_sv_cv_optimized = SVC(kernel = ex_optmized_kernel,\n",
    "                        gamma = ex_optmized_gamma, \n",
    "                        C = ex_optmized_c,\n",
    "                        probability = True)\n",
    "\n",
    "ex_sv_cv_optimized.fit(X_train_ex, y_train_ex)"
   ]
  },
  {
   "cell_type": "markdown",
   "metadata": {},
   "source": [
    "#### Task 4\n",
    "##### Using `ex_sv_cv_optimized`, predict on the test data and save as `ex_opt_svm_y_predict`.\n",
    "##### Save the prediction probabilities as `ex_opt_svm_y_predict_prob`.\n",
    "##### Print the first five rows of the prediction and prediction probabilities.\n",
    "\n",
    "#### Result:"
   ]
  },
  {
   "cell_type": "code",
   "execution_count": 19,
   "metadata": {},
   "outputs": [
    {
     "data": {
      "text/plain": [
       "array([0, 0, 0, 0, 0])"
      ]
     },
     "execution_count": 19,
     "metadata": {},
     "output_type": "execute_result"
    }
   ],
   "source": [
    "# Predict on the test dataset.\n",
    "ex_opt_svm_y_predict = ex_sv_cv_optimized.predict(X_test_ex)\n",
    "ex_opt_svm_y_predict[0:5]"
   ]
  },
  {
   "cell_type": "code",
   "execution_count": 20,
   "metadata": {},
   "outputs": [
    {
     "name": "stdout",
     "output_type": "stream",
     "text": [
      "[[0.89561176 0.10438824]\n",
      " [0.30097429 0.69902571]\n",
      " [0.89557113 0.10442887]\n",
      " ...\n",
      " [0.8953811  0.1046189 ]\n",
      " [0.89483774 0.10516226]\n",
      " [0.89523078 0.10476922]]\n"
     ]
    }
   ],
   "source": [
    "# Predict on test, but instead of labels \n",
    "# we will get probabilities for class 0 and 1.\n",
    "ex_opt_svm_y_predict_prob = ex_sv_cv_optimized.predict_proba(X_test_ex) \n",
    "print(ex_opt_svm_y_predict_prob[5:])"
   ]
  },
  {
   "cell_type": "markdown",
   "metadata": {},
   "source": [
    "#### Task 5\n",
    "\n",
    "##### Compute the metrics of our svm model and save as `ex_opt_svm_scores` and print results.\n",
    "\n",
    "#### Result:"
   ]
  },
  {
   "cell_type": "code",
   "execution_count": 21,
   "metadata": {},
   "outputs": [
    {
     "name": "stdout",
     "output_type": "stream",
     "text": [
      "{'accuracy': 0.9, 'precision': 0.8095238095238095, 'recall': 0.2328767123287671, 'f1': 0.36170212765957444, 'fbeta': 0.5414012738853503, 'log_loss': 0.3192113849615267, 'AUC': 0.6729354578773621}\n"
     ]
    }
   ],
   "source": [
    "ex_opt_svm_scores = get_performance_scores(y_test_ex, ex_opt_svm_y_predict, ex_opt_svm_y_predict_prob)\n",
    "print(ex_opt_svm_scores)"
   ]
  },
  {
   "cell_type": "markdown",
   "metadata": {},
   "source": [
    "#### Task 6\n",
    "\n",
    "##### Save the precision-recall curve of the svm model  in `ex_opt_svm_prec_recall`. Set parameters as shown in class.\n",
    "##### Plot the curves comparing `ex_svm_prec_recall` and `ex_opt_svm_prec_recall`.\n",
    "\n",
    "#### Result:"
   ]
  },
  {
   "cell_type": "code",
   "execution_count": 22,
   "metadata": {},
   "outputs": [
    {
     "data": {
      "image/png": "[encoded data removed]",
      "text/plain": [
       "<Figure size 640x480 with 1 Axes>"
      ]
     },
     "metadata": {},
     "output_type": "display_data"
    }
   ],
   "source": [
    "ax = plt.gca() #<- create a new axis object\n",
    "ex_opt_svm_prec_recall = metrics.plot_precision_recall_curve(ex_sv_cv_optimized,\n",
    "                                 X_test_ex, \n",
    "                                 y_test_ex,\n",
    "                                 ax = ax,\n",
    "                                 name = \"Optimized SVM\")\n",
    "\n",
    "ex_svm_prec_recall.plot(ax = ax, name = \"SVM\") #<- add rf plot\n",
    "plt.show()"
   ]
  },
  {
   "cell_type": "markdown",
   "metadata": {},
   "source": [
    "#### Task 6\n",
    "\n",
    "##### Similar to above, plot the ROC curve of the svm model.\n",
    "##### Save the curve as `ex_opt_svm_roc`.\n",
    "##### Plot the curves comparing the svm model curve `ex_svm_roc` and `ex_opt_svm_roc`. \n",
    "\n",
    "\n",
    "#### Result:"
   ]
  },
  {
   "cell_type": "code",
   "execution_count": 23,
   "metadata": {},
   "outputs": [
    {
     "data": {
      "image/png": "[encoded data removed]",
      "text/plain": [
       "<Figure size 640x480 with 1 Axes>"
      ]
     },
     "metadata": {},
     "output_type": "display_data"
    }
   ],
   "source": [
    "ax = plt.gca()\n",
    "ex_opt_svm_roc = metrics.plot_roc_curve(ex_sv_cv_optimized,\n",
    "                       X_test_ex,\n",
    "                       y_test_ex,\n",
    "                       name = \"Optimized SVM\",\n",
    "                       ax = ax)\n",
    "\n",
    "ex_svm_roc.plot(ax = ax, name = \"SVM\")\n",
    "plt.show()"
   ]
  },
  {
   "cell_type": "markdown",
   "metadata": {},
   "source": [
    "#### Task 7\n",
    "\n",
    "##### Save the metrics to  `metrics_svm_ex` as \"Optimized SVM\".\n",
    "##### Convert `metrics_svm_ex` into a pandas dataframe and create new column `metric` using the index.\n",
    "##### Use `pd.melt()` to switch our dataframe to long format.\n",
    "#### Result:\n"
   ]
  },
  {
   "cell_type": "code",
   "execution_count": 24,
   "metadata": {},
   "outputs": [
    {
     "name": "stdout",
     "output_type": "stream",
     "text": [
      "{'RF': {'accuracy': 0.8716666666666667, 'precision': 0.4411764705882353, 'recall': 0.2054794520547945, 'f1': 0.2803738317757009, 'fbeta': 0.3588516746411483, 'log_loss': 1.0075494584661249, 'AUC': 0.7337734917210366}, 'Optimized RF': {'accuracy': 0.8933333333333333, 'precision': 0.7142857142857143, 'recall': 0.2054794520547945, 'f1': 0.3191489361702127, 'fbeta': 0.4777070063694268, 'log_loss': 0.31929555370400753, 'AUC': 0.7813287931168932}, 'GBM': {'accuracy': 0.895, 'precision': 0.7083333333333334, 'recall': 0.2328767123287671, 'f1': 0.3505154639175258, 'fbeta': 0.5029585798816569, 'log_loss': 0.30041312491642347, 'AUC': 0.7918172129656105}, 'Optimized GBM': {'accuracy': 0.8816666666666667, 'precision': 0.5714285714285714, 'recall': 0.1095890410958904, 'f1': 0.1839080459770115, 'fbeta': 0.3100775193798449, 'log_loss': 0.3196653331095461, 'AUC': 0.7571287463284032}, 'SVC': {'accuracy': 0.87, 'precision': 0.3333333333333333, 'recall': 0.0684931506849315, 'f1': 0.11363636363636363, 'fbeta': 0.18796992481203006, 'log_loss': 0.35663959180768584, 'AUC': 0.6554417613267136}, 'SVM': {'accuracy': 0.8883333333333333, 'precision': 0.6875, 'recall': 0.1506849315068493, 'f1': 0.24719101123595508, 'fbeta': 0.4014598540145985, 'log_loss': 0.33948746548881387, 'AUC': 0.6358425827246497}, 'Optimized SVM': {'accuracy': 0.9, 'precision': 0.8095238095238095, 'recall': 0.2328767123287671, 'f1': 0.36170212765957444, 'fbeta': 0.5414012738853503, 'log_loss': 0.3192113849615267, 'AUC': 0.6729354578773621}}\n"
     ]
    }
   ],
   "source": [
    "# Add the model to our dataframe.\n",
    "metrics_svm_ex.update({\"Optimized SVM\": ex_opt_svm_scores})\n",
    "print(metrics_svm_ex)"
   ]
  },
  {
   "cell_type": "code",
   "execution_count": 25,
   "metadata": {},
   "outputs": [
    {
     "name": "stdout",
     "output_type": "stream",
     "text": [
      "         RF  Optimized RF       GBM  Optimized GBM       SVC       SVM  \\\n",
      "0  0.871667      0.893333  0.895000       0.881667  0.870000  0.888333   \n",
      "1  0.441176      0.714286  0.708333       0.571429  0.333333  0.687500   \n",
      "2  0.205479      0.205479  0.232877       0.109589  0.068493  0.150685   \n",
      "3  0.280374      0.319149  0.350515       0.183908  0.113636  0.247191   \n",
      "4  0.358852      0.477707  0.502959       0.310078  0.187970  0.401460   \n",
      "\n",
      "   Optimized SVM     metric  \n",
      "0       0.900000   accuracy  \n",
      "1       0.809524  precision  \n",
      "2       0.232877     recall  \n",
      "3       0.361702         f1  \n",
      "4       0.541401      fbeta  \n"
     ]
    }
   ],
   "source": [
    "metrics_svm_df_ex = pd.DataFrame(metrics_svm_ex)\n",
    "metrics_svm_df_ex[\"metric\"] = metrics_svm_df_ex.index\n",
    "metrics_svm_df_ex = metrics_svm_df_ex.reset_index(drop = True)\n",
    "print(metrics_svm_df_ex.head())"
   ]
  },
  {
   "cell_type": "code",
   "execution_count": null,
   "metadata": {},
   "outputs": [],
   "source": []
  }
 ],
 "metadata": {
  "kernelspec": {
   "display_name": "Python 3 (ipykernel)",
   "language": "python",
   "name": "python3"
  },
  "language_info": {
   "codemirror_mode": {
    "name": "ipython",
    "version": 3
   },
   "file_extension": ".py",
   "mimetype": "text/x-python",
   "name": "python",
   "nbconvert_exporter": "python",
   "pygments_lexer": "ipython3",
   "version": "3.7.10"
  },
  "toc": {
   "base_numbering": 1,
   "nav_menu": {},
   "number_sections": true,
   "sideBar": true,
   "skip_h1_title": false,
   "title_cell": "Table of Contents",
   "title_sidebar": "Contents",
   "toc_cell": false,
   "toc_position": {},
   "toc_section_display": true,
   "toc_window_display": false
  }
 },
 "nbformat": 4,
 "nbformat_minor": 2
}
