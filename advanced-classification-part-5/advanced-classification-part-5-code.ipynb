{
 "cells": [
  {
   "cell_type": "code",
   "execution_count": null,
   "id": "523762b0",
   "metadata": {},
   "outputs": [],
   "source": [
    "#######################################################\n",
    "#######################################################\n",
    "############    COPYRIGHT - DATA SOCIETY   ############\n",
    "#######################################################\n",
    "#######################################################\n",
    "\n",
    "## ADVANCED CLASSIFICATION PART 5/ADVANCED CLASSIFICATION PART 5 ##\n",
    "\n",
    "## NOTE: To run individual pieces of code, select the line of code and\n",
    "##       press ctrl + enter for PCs or command + enter for Macs\n",
    "\n",
    "\n"
   ]
  },
  {
   "cell_type": "code",
   "execution_count": null,
   "id": "7dbee826",
   "metadata": {},
   "outputs": [],
   "source": [
    "#=================================================-\n",
    "#### Slide 14: Loading packages  ####\n",
    "\n",
    "import os\n",
    "import pickle\n",
    "import numpy as np\n",
    "import pandas as pd\n",
    "import matplotlib.pyplot as plt\n",
    "from pathlib import Path\n",
    "from sklearn.model_selection import train_test_split\n",
    "from sklearn.svm import SVC\n",
    "from sklearn import metrics\n",
    "from sklearn.model_selection import GridSearchCV\n",
    "\n",
    "\n"
   ]
  },
  {
   "cell_type": "code",
   "execution_count": null,
   "id": "df30b1bb",
   "metadata": {},
   "outputs": [],
   "source": [
    "#=================================================-\n",
    "#### Slide 22: Directory settings  ####\n",
    "\n",
    "# Set 'main_dir' to location of the project folder\n",
    "home_dir = Path(\".\").resolve()\n",
    "main_dir = home_dir.parent.parent\n",
    "print(main_dir)\n",
    "data_dir = str(main_dir) + \"/data\"\n",
    "print(data_dir)\n",
    "\n",
    "\n"
   ]
  },
  {
   "cell_type": "code",
   "execution_count": null,
   "id": "cf683ed0",
   "metadata": {},
   "outputs": [],
   "source": [
    "#=================================================-\n",
    "#### Slide 23: Load the cleaned dataset  ####\n",
    "\n",
    "costa_clean = pickle.load(open((data_dir + \"/costa_clean.sav\"),\"rb\"))\n",
    "# Print the head.\n",
    "print(costa_clean.head())\n",
    "\n",
    "\n"
   ]
  },
  {
   "cell_type": "code",
   "execution_count": null,
   "id": "baf172d1",
   "metadata": {},
   "outputs": [],
   "source": [
    "#=================================================-\n",
    "#### Slide 24: Print info on data  ####\n",
    "\n",
    "# Print the columns.\n",
    "costa_clean.columns\n",
    "\n",
    "\n"
   ]
  },
  {
   "cell_type": "code",
   "execution_count": null,
   "id": "3bca4cad",
   "metadata": {},
   "outputs": [],
   "source": [
    "#=================================================-\n",
    "#### Slide 25: Split into training and test sets  ####\n",
    "\n",
    "# Select the predictors and target.\n",
    "X = costa_clean.drop(['Target'], axis = 1)\n",
    "y = np.array(costa_clean['Target'])\n",
    "\n",
    "# Set the seed to 1.\n",
    "np.random.seed(1)\n",
    "\n",
    "# Split into training and test sets with 70% train and 30% test.\n",
    "X_train, X_test, y_train, y_test = train_test_split(X, y, test_size = 0.3)\n",
    "\n",
    "\n"
   ]
  },
  {
   "cell_type": "code",
   "execution_count": null,
   "id": "fdcbdb98",
   "metadata": {},
   "outputs": [],
   "source": [
    "#=================================================-\n",
    "#### Slide 28: Support vector classifier model  ####\n",
    "\n",
    "# Create an SVC classifier.\n",
    "svclassifier = SVC(kernel = 'linear', \n",
    "                   probability = True)\n",
    "\n",
    "# Fit the model.\n",
    "svclassifier.fit(X_train, y_train)\n",
    "\n",
    "\n"
   ]
  },
  {
   "cell_type": "code",
   "execution_count": null,
   "id": "79b51917",
   "metadata": {},
   "outputs": [],
   "source": [
    "#=================================================-\n",
    "#### Slide 29: Recap: score evaluation function  ####\n",
    "\n",
    "def get_performance_scores(y_test, y_predict, y_predict_prob, eps=1e-15, beta=0.5):\n",
    "    from sklearn import metrics\n",
    "    # Scores keys.\n",
    "    metric_keys = [\"accuracy\", \"precision\", \"recall\", \"f1\", \"fbeta\", \"log_loss\", \"AUC\"]\n",
    "    # Score values.\n",
    "    metric_values = [None]*len(metric_keys)\n",
    "    metric_values[0] = metrics.accuracy_score(y_test, y_predict)\n",
    "    metric_values[1] = metrics.precision_score(y_test, y_predict)\n",
    "    metric_values[2] = metrics.recall_score(y_test, y_predict)\n",
    "    metric_values[3] = metrics.f1_score(y_test, y_predict)\n",
    "    metric_values[4] = metrics.fbeta_score(y_test, y_predict, beta=beta)\n",
    "    metric_values[5] = metrics.log_loss(y_test, y_predict_prob[:, 1], eps=eps)\n",
    "    metric_values[6] = metrics.roc_auc_score(y_test, y_predict_prob[:, 1])\n",
    "    perf_metrics = dict(zip(metric_keys, metric_values))\n",
    "    return(perf_metrics)\n",
    "\n",
    "\n"
   ]
  },
  {
   "cell_type": "code",
   "execution_count": null,
   "id": "c5cc2660",
   "metadata": {},
   "outputs": [],
   "source": [
    "#=================================================-\n",
    "#### Slide 30: Predict on the test dataset  ####\n",
    "\n",
    "# Predict on the test dataset.\n",
    "svc_y_predict = svclassifier.predict(X_test)\n",
    "svc_y_predict[0:5]\n",
    "\n",
    "#Predict on test, but instead of labels \n",
    "# we will get probabilities for class 0 and 1.\n",
    "svc_y_predict_prob = svclassifier.predict_proba(X_test) \n",
    "print(svc_y_predict_prob[5:])\n",
    "\n",
    "\n"
   ]
  },
  {
   "cell_type": "code",
   "execution_count": null,
   "id": "e7a45b5e",
   "metadata": {},
   "outputs": [],
   "source": [
    "#=================================================-\n",
    "#### Slide 31: Predict on the test dataset  ####\n",
    "\n",
    "svc_scores = get_performance_scores(y_test, svc_y_predict, svc_y_predict_prob)\n",
    "print(svc_scores)\n",
    "\n",
    "\n"
   ]
  },
  {
   "cell_type": "code",
   "execution_count": null,
   "id": "87eb8b32",
   "metadata": {},
   "outputs": [],
   "source": [
    "#=================================================-\n",
    "#### Slide 32: Precision vs recall curve: the tradeoff  ####\n",
    "\n",
    "svc_prec_recall = metrics.plot_precision_recall_curve(svclassifier, \n",
    "                               X_test, y_test, \n",
    "                               name = \"SVC\")\n",
    "plt.show()\n",
    "svc_prec_recall = metrics.plot_precision_recall_curve(svclassifier, X_test, y_test, name = \"SVC\")\n",
    "plt.show()\n",
    "\n",
    "\n"
   ]
  },
  {
   "cell_type": "code",
   "execution_count": null,
   "id": "267f5f7c",
   "metadata": {},
   "outputs": [],
   "source": [
    "#=================================================-\n",
    "#### Slide 33: ROC curve: the tradeoff  ####\n",
    "\n",
    "svc_roc = metrics.plot_roc_curve(svclassifier,\n",
    "                                X_test,\n",
    "                                y_test,\n",
    "                                name = \"SVC\")\n",
    "plt.show()\n",
    "svc_roc = metrics.plot_roc_curve(svclassifier,\n",
    "                                X_test,\n",
    "                                y_test,\n",
    "                                name = \"SVC\")\n",
    "plt.show()\n",
    "\n",
    "\n"
   ]
  },
  {
   "cell_type": "code",
   "execution_count": null,
   "id": "daca504d",
   "metadata": {},
   "outputs": [],
   "source": [
    "#=================================================-\n",
    "#### Slide 34: Save final metrics of SVC  ####\n",
    "\n",
    "metrics_svm = pickle.load(open((data_dir + \"/metrics_gbm.sav\"),\"rb\"))\n",
    "\n",
    "\n"
   ]
  },
  {
   "cell_type": "code",
   "execution_count": null,
   "id": "241a3948",
   "metadata": {},
   "outputs": [],
   "source": [
    "#=================================================-\n",
    "#### Slide 35: Save final metrics of SVC  ####\n",
    "\n",
    "# Add the model to our dataframe.\n",
    "metrics_svm.update({\"SVC\": svc_scores})\n",
    "print(metrics_svm)\n",
    "\n",
    "\n"
   ]
  }
 ],
 "metadata": {
  "language": "python"
 },
 "nbformat": 4,
 "nbformat_minor": 5
}
